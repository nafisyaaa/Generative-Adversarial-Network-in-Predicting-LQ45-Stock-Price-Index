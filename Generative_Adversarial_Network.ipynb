{
  "cells": [
    {
      "cell_type": "code",
      "execution_count": null,
      "metadata": {
        "id": "Ce_wHUzLcmPr"
      },
      "outputs": [],
      "source": [
        "import pandas as pd\n",
        "import numpy as np\n",
        "import matplotlib.pyplot as plt\n",
        "import tensorflow as tf\n",
        "import os\n",
        "import time\n",
        "\n",
        "from numpy import *\n",
        "from sklearn.metrics import mean_absolute_percentage_error, mean_squared_error\n",
        "from sklearn.preprocessing import MinMaxScaler\n",
        "from math import sqrt\n",
        "from datetime import datetime\n",
        "from pickle import dump,load\n",
        "from tensorflow.keras.layers import GRU, LSTM, Bidirectional, Dense, Flatten, Conv1D, BatchNormalization, LeakyReLU, Dropout, MaxPool1D, Reshape\n",
        "from tensorflow.keras import Sequential"
      ]
    },
    {
      "cell_type": "code",
      "execution_count": null,
      "metadata": {
        "colab": {
          "base_uri": "https://localhost:8080/",
          "height": 424
        },
        "id": "YsFwePVudRWQ",
        "outputId": "afd5f7c4-8fcb-4c76-825d-932bbfb0e8ea"
      },
      "outputs": [
        {
          "output_type": "execute_result",
          "data": {
            "text/plain": [
              "        Tanggal  Terakhir  Pembukaan  Tertinggi  Terendah   Vol.  Perubahan%\n",
              "0    02/01/2019    984.35     983.58     986.57    980.21  1,14B      0.0016\n",
              "1    03/01/2019    990.88     983.09     990.88    981.16  1,29B      0.0066\n",
              "2    04/01/2019   1001.64     988.40    1001.64    985.94  1,98B      0.0109\n",
              "3    07/01/2019   1002.78    1012.40    1017.83   1002.78  2,61B      0.0011\n",
              "4    08/01/2019    997.42    1004.04    1008.43    994.01  1,77B     -0.0053\n",
              "..          ...       ...        ...        ...       ...    ...         ...\n",
              "975  26/12/2022    935.15     934.27     938.91    931.22  2,37B      0.0009\n",
              "976  27/12/2022    940.38     935.15     941.98    935.12  3,70B      0.0056\n",
              "977  28/12/2022    933.69     940.39     942.56    930.52  2,94B     -0.0071\n",
              "978  29/12/2022    939.87     933.69     940.06    926.80  5,04B      0.0066\n",
              "979  30/12/2022    937.18     939.88     944.83    937.18  3,95B     -0.0029\n",
              "\n",
              "[980 rows x 7 columns]"
            ],
            "text/html": [
              "\n",
              "  <div id=\"df-a52219f1-a985-4071-850f-8f34ceccf02e\" class=\"colab-df-container\">\n",
              "    <div>\n",
              "<style scoped>\n",
              "    .dataframe tbody tr th:only-of-type {\n",
              "        vertical-align: middle;\n",
              "    }\n",
              "\n",
              "    .dataframe tbody tr th {\n",
              "        vertical-align: top;\n",
              "    }\n",
              "\n",
              "    .dataframe thead th {\n",
              "        text-align: right;\n",
              "    }\n",
              "</style>\n",
              "<table border=\"1\" class=\"dataframe\">\n",
              "  <thead>\n",
              "    <tr style=\"text-align: right;\">\n",
              "      <th></th>\n",
              "      <th>Tanggal</th>\n",
              "      <th>Terakhir</th>\n",
              "      <th>Pembukaan</th>\n",
              "      <th>Tertinggi</th>\n",
              "      <th>Terendah</th>\n",
              "      <th>Vol.</th>\n",
              "      <th>Perubahan%</th>\n",
              "    </tr>\n",
              "  </thead>\n",
              "  <tbody>\n",
              "    <tr>\n",
              "      <th>0</th>\n",
              "      <td>02/01/2019</td>\n",
              "      <td>984.35</td>\n",
              "      <td>983.58</td>\n",
              "      <td>986.57</td>\n",
              "      <td>980.21</td>\n",
              "      <td>1,14B</td>\n",
              "      <td>0.0016</td>\n",
              "    </tr>\n",
              "    <tr>\n",
              "      <th>1</th>\n",
              "      <td>03/01/2019</td>\n",
              "      <td>990.88</td>\n",
              "      <td>983.09</td>\n",
              "      <td>990.88</td>\n",
              "      <td>981.16</td>\n",
              "      <td>1,29B</td>\n",
              "      <td>0.0066</td>\n",
              "    </tr>\n",
              "    <tr>\n",
              "      <th>2</th>\n",
              "      <td>04/01/2019</td>\n",
              "      <td>1001.64</td>\n",
              "      <td>988.40</td>\n",
              "      <td>1001.64</td>\n",
              "      <td>985.94</td>\n",
              "      <td>1,98B</td>\n",
              "      <td>0.0109</td>\n",
              "    </tr>\n",
              "    <tr>\n",
              "      <th>3</th>\n",
              "      <td>07/01/2019</td>\n",
              "      <td>1002.78</td>\n",
              "      <td>1012.40</td>\n",
              "      <td>1017.83</td>\n",
              "      <td>1002.78</td>\n",
              "      <td>2,61B</td>\n",
              "      <td>0.0011</td>\n",
              "    </tr>\n",
              "    <tr>\n",
              "      <th>4</th>\n",
              "      <td>08/01/2019</td>\n",
              "      <td>997.42</td>\n",
              "      <td>1004.04</td>\n",
              "      <td>1008.43</td>\n",
              "      <td>994.01</td>\n",
              "      <td>1,77B</td>\n",
              "      <td>-0.0053</td>\n",
              "    </tr>\n",
              "    <tr>\n",
              "      <th>...</th>\n",
              "      <td>...</td>\n",
              "      <td>...</td>\n",
              "      <td>...</td>\n",
              "      <td>...</td>\n",
              "      <td>...</td>\n",
              "      <td>...</td>\n",
              "      <td>...</td>\n",
              "    </tr>\n",
              "    <tr>\n",
              "      <th>975</th>\n",
              "      <td>26/12/2022</td>\n",
              "      <td>935.15</td>\n",
              "      <td>934.27</td>\n",
              "      <td>938.91</td>\n",
              "      <td>931.22</td>\n",
              "      <td>2,37B</td>\n",
              "      <td>0.0009</td>\n",
              "    </tr>\n",
              "    <tr>\n",
              "      <th>976</th>\n",
              "      <td>27/12/2022</td>\n",
              "      <td>940.38</td>\n",
              "      <td>935.15</td>\n",
              "      <td>941.98</td>\n",
              "      <td>935.12</td>\n",
              "      <td>3,70B</td>\n",
              "      <td>0.0056</td>\n",
              "    </tr>\n",
              "    <tr>\n",
              "      <th>977</th>\n",
              "      <td>28/12/2022</td>\n",
              "      <td>933.69</td>\n",
              "      <td>940.39</td>\n",
              "      <td>942.56</td>\n",
              "      <td>930.52</td>\n",
              "      <td>2,94B</td>\n",
              "      <td>-0.0071</td>\n",
              "    </tr>\n",
              "    <tr>\n",
              "      <th>978</th>\n",
              "      <td>29/12/2022</td>\n",
              "      <td>939.87</td>\n",
              "      <td>933.69</td>\n",
              "      <td>940.06</td>\n",
              "      <td>926.80</td>\n",
              "      <td>5,04B</td>\n",
              "      <td>0.0066</td>\n",
              "    </tr>\n",
              "    <tr>\n",
              "      <th>979</th>\n",
              "      <td>30/12/2022</td>\n",
              "      <td>937.18</td>\n",
              "      <td>939.88</td>\n",
              "      <td>944.83</td>\n",
              "      <td>937.18</td>\n",
              "      <td>3,95B</td>\n",
              "      <td>-0.0029</td>\n",
              "    </tr>\n",
              "  </tbody>\n",
              "</table>\n",
              "<p>980 rows × 7 columns</p>\n",
              "</div>\n",
              "    <div class=\"colab-df-buttons\">\n",
              "\n",
              "  <div class=\"colab-df-container\">\n",
              "    <button class=\"colab-df-convert\" onclick=\"convertToInteractive('df-a52219f1-a985-4071-850f-8f34ceccf02e')\"\n",
              "            title=\"Convert this dataframe to an interactive table.\"\n",
              "            style=\"display:none;\">\n",
              "\n",
              "  <svg xmlns=\"http://www.w3.org/2000/svg\" height=\"24px\" viewBox=\"0 -960 960 960\">\n",
              "    <path d=\"M120-120v-720h720v720H120Zm60-500h600v-160H180v160Zm220 220h160v-160H400v160Zm0 220h160v-160H400v160ZM180-400h160v-160H180v160Zm440 0h160v-160H620v160ZM180-180h160v-160H180v160Zm440 0h160v-160H620v160Z\"/>\n",
              "  </svg>\n",
              "    </button>\n",
              "\n",
              "  <style>\n",
              "    .colab-df-container {\n",
              "      display:flex;\n",
              "      gap: 12px;\n",
              "    }\n",
              "\n",
              "    .colab-df-convert {\n",
              "      background-color: #E8F0FE;\n",
              "      border: none;\n",
              "      border-radius: 50%;\n",
              "      cursor: pointer;\n",
              "      display: none;\n",
              "      fill: #1967D2;\n",
              "      height: 32px;\n",
              "      padding: 0 0 0 0;\n",
              "      width: 32px;\n",
              "    }\n",
              "\n",
              "    .colab-df-convert:hover {\n",
              "      background-color: #E2EBFA;\n",
              "      box-shadow: 0px 1px 2px rgba(60, 64, 67, 0.3), 0px 1px 3px 1px rgba(60, 64, 67, 0.15);\n",
              "      fill: #174EA6;\n",
              "    }\n",
              "\n",
              "    .colab-df-buttons div {\n",
              "      margin-bottom: 4px;\n",
              "    }\n",
              "\n",
              "    [theme=dark] .colab-df-convert {\n",
              "      background-color: #3B4455;\n",
              "      fill: #D2E3FC;\n",
              "    }\n",
              "\n",
              "    [theme=dark] .colab-df-convert:hover {\n",
              "      background-color: #434B5C;\n",
              "      box-shadow: 0px 1px 3px 1px rgba(0, 0, 0, 0.15);\n",
              "      filter: drop-shadow(0px 1px 2px rgba(0, 0, 0, 0.3));\n",
              "      fill: #FFFFFF;\n",
              "    }\n",
              "  </style>\n",
              "\n",
              "    <script>\n",
              "      const buttonEl =\n",
              "        document.querySelector('#df-a52219f1-a985-4071-850f-8f34ceccf02e button.colab-df-convert');\n",
              "      buttonEl.style.display =\n",
              "        google.colab.kernel.accessAllowed ? 'block' : 'none';\n",
              "\n",
              "      async function convertToInteractive(key) {\n",
              "        const element = document.querySelector('#df-a52219f1-a985-4071-850f-8f34ceccf02e');\n",
              "        const dataTable =\n",
              "          await google.colab.kernel.invokeFunction('convertToInteractive',\n",
              "                                                    [key], {});\n",
              "        if (!dataTable) return;\n",
              "\n",
              "        const docLinkHtml = 'Like what you see? Visit the ' +\n",
              "          '<a target=\"_blank\" href=https://colab.research.google.com/notebooks/data_table.ipynb>data table notebook</a>'\n",
              "          + ' to learn more about interactive tables.';\n",
              "        element.innerHTML = '';\n",
              "        dataTable['output_type'] = 'display_data';\n",
              "        await google.colab.output.renderOutput(dataTable, element);\n",
              "        const docLink = document.createElement('div');\n",
              "        docLink.innerHTML = docLinkHtml;\n",
              "        element.appendChild(docLink);\n",
              "      }\n",
              "    </script>\n",
              "  </div>\n",
              "\n",
              "\n",
              "<div id=\"df-7078676e-1d70-43cb-b8a6-a7e9974f3b5f\">\n",
              "  <button class=\"colab-df-quickchart\" onclick=\"quickchart('df-7078676e-1d70-43cb-b8a6-a7e9974f3b5f')\"\n",
              "            title=\"Suggest charts\"\n",
              "            style=\"display:none;\">\n",
              "\n",
              "<svg xmlns=\"http://www.w3.org/2000/svg\" height=\"24px\"viewBox=\"0 0 24 24\"\n",
              "     width=\"24px\">\n",
              "    <g>\n",
              "        <path d=\"M19 3H5c-1.1 0-2 .9-2 2v14c0 1.1.9 2 2 2h14c1.1 0 2-.9 2-2V5c0-1.1-.9-2-2-2zM9 17H7v-7h2v7zm4 0h-2V7h2v10zm4 0h-2v-4h2v4z\"/>\n",
              "    </g>\n",
              "</svg>\n",
              "  </button>\n",
              "\n",
              "<style>\n",
              "  .colab-df-quickchart {\n",
              "      --bg-color: #E8F0FE;\n",
              "      --fill-color: #1967D2;\n",
              "      --hover-bg-color: #E2EBFA;\n",
              "      --hover-fill-color: #174EA6;\n",
              "      --disabled-fill-color: #AAA;\n",
              "      --disabled-bg-color: #DDD;\n",
              "  }\n",
              "\n",
              "  [theme=dark] .colab-df-quickchart {\n",
              "      --bg-color: #3B4455;\n",
              "      --fill-color: #D2E3FC;\n",
              "      --hover-bg-color: #434B5C;\n",
              "      --hover-fill-color: #FFFFFF;\n",
              "      --disabled-bg-color: #3B4455;\n",
              "      --disabled-fill-color: #666;\n",
              "  }\n",
              "\n",
              "  .colab-df-quickchart {\n",
              "    background-color: var(--bg-color);\n",
              "    border: none;\n",
              "    border-radius: 50%;\n",
              "    cursor: pointer;\n",
              "    display: none;\n",
              "    fill: var(--fill-color);\n",
              "    height: 32px;\n",
              "    padding: 0;\n",
              "    width: 32px;\n",
              "  }\n",
              "\n",
              "  .colab-df-quickchart:hover {\n",
              "    background-color: var(--hover-bg-color);\n",
              "    box-shadow: 0 1px 2px rgba(60, 64, 67, 0.3), 0 1px 3px 1px rgba(60, 64, 67, 0.15);\n",
              "    fill: var(--button-hover-fill-color);\n",
              "  }\n",
              "\n",
              "  .colab-df-quickchart-complete:disabled,\n",
              "  .colab-df-quickchart-complete:disabled:hover {\n",
              "    background-color: var(--disabled-bg-color);\n",
              "    fill: var(--disabled-fill-color);\n",
              "    box-shadow: none;\n",
              "  }\n",
              "\n",
              "  .colab-df-spinner {\n",
              "    border: 2px solid var(--fill-color);\n",
              "    border-color: transparent;\n",
              "    border-bottom-color: var(--fill-color);\n",
              "    animation:\n",
              "      spin 1s steps(1) infinite;\n",
              "  }\n",
              "\n",
              "  @keyframes spin {\n",
              "    0% {\n",
              "      border-color: transparent;\n",
              "      border-bottom-color: var(--fill-color);\n",
              "      border-left-color: var(--fill-color);\n",
              "    }\n",
              "    20% {\n",
              "      border-color: transparent;\n",
              "      border-left-color: var(--fill-color);\n",
              "      border-top-color: var(--fill-color);\n",
              "    }\n",
              "    30% {\n",
              "      border-color: transparent;\n",
              "      border-left-color: var(--fill-color);\n",
              "      border-top-color: var(--fill-color);\n",
              "      border-right-color: var(--fill-color);\n",
              "    }\n",
              "    40% {\n",
              "      border-color: transparent;\n",
              "      border-right-color: var(--fill-color);\n",
              "      border-top-color: var(--fill-color);\n",
              "    }\n",
              "    60% {\n",
              "      border-color: transparent;\n",
              "      border-right-color: var(--fill-color);\n",
              "    }\n",
              "    80% {\n",
              "      border-color: transparent;\n",
              "      border-right-color: var(--fill-color);\n",
              "      border-bottom-color: var(--fill-color);\n",
              "    }\n",
              "    90% {\n",
              "      border-color: transparent;\n",
              "      border-bottom-color: var(--fill-color);\n",
              "    }\n",
              "  }\n",
              "</style>\n",
              "\n",
              "  <script>\n",
              "    async function quickchart(key) {\n",
              "      const quickchartButtonEl =\n",
              "        document.querySelector('#' + key + ' button');\n",
              "      quickchartButtonEl.disabled = true;  // To prevent multiple clicks.\n",
              "      quickchartButtonEl.classList.add('colab-df-spinner');\n",
              "      try {\n",
              "        const charts = await google.colab.kernel.invokeFunction(\n",
              "            'suggestCharts', [key], {});\n",
              "      } catch (error) {\n",
              "        console.error('Error during call to suggestCharts:', error);\n",
              "      }\n",
              "      quickchartButtonEl.classList.remove('colab-df-spinner');\n",
              "      quickchartButtonEl.classList.add('colab-df-quickchart-complete');\n",
              "    }\n",
              "    (() => {\n",
              "      let quickchartButtonEl =\n",
              "        document.querySelector('#df-7078676e-1d70-43cb-b8a6-a7e9974f3b5f button');\n",
              "      quickchartButtonEl.style.display =\n",
              "        google.colab.kernel.accessAllowed ? 'block' : 'none';\n",
              "    })();\n",
              "  </script>\n",
              "</div>\n",
              "    </div>\n",
              "  </div>\n"
            ]
          },
          "metadata": {},
          "execution_count": 6
        }
      ],
      "source": [
        "#Import Data\n",
        "url = 'https://github.com/nafisyanaa/Skripsi/blob/main/Data-LQ45.xlsx?raw=true'\n",
        "data = pd.read_excel(url)\n",
        "data"
      ]
    },
    {
      "cell_type": "code",
      "execution_count": null,
      "metadata": {
        "colab": {
          "base_uri": "https://localhost:8080/"
        },
        "id": "0gcgQhdLfF2U",
        "outputId": "7df22491-d0da-4b55-87ac-5617ed67bc0a"
      },
      "outputs": [
        {
          "output_type": "execute_result",
          "data": {
            "text/plain": [
              "Tanggal        object\n",
              "Terakhir      float64\n",
              "Pembukaan     float64\n",
              "Tertinggi     float64\n",
              "Terendah      float64\n",
              "Vol.           object\n",
              "Perubahan%    float64\n",
              "dtype: object"
            ]
          },
          "metadata": {},
          "execution_count": 7
        }
      ],
      "source": [
        "data.dtypes"
      ]
    },
    {
      "cell_type": "code",
      "execution_count": null,
      "metadata": {
        "id": "ytMKsaEP1Lbp"
      },
      "outputs": [],
      "source": [
        "#Get variable\n",
        "y_value = pd.DataFrame(data.iloc[:,1])"
      ]
    },
    {
      "cell_type": "code",
      "execution_count": null,
      "metadata": {
        "id": "_Tdbye5D2L9Y"
      },
      "outputs": [],
      "source": [
        "#Normalized the data\n",
        "y_scaler = MinMaxScaler(feature_range=(0, 1))\n",
        "y_scaler.fit(y_value)\n",
        "y_scale_dataset = y_scaler.fit_transform(y_value)\n",
        "dump(y_scaler, open('y_scaler.pkl', 'wb'))"
      ]
    },
    {
      "cell_type": "code",
      "execution_count": null,
      "metadata": {
        "id": "MeiEDA462SDe"
      },
      "outputs": [],
      "source": [
        "#Reshape the data to the format required for LSTM input\n",
        "n_steps_in = 3\n",
        "n_steps_out = 1"
      ]
    },
    {
      "cell_type": "code",
      "execution_count": null,
      "metadata": {
        "id": "_XdY1YEV2U8p"
      },
      "outputs": [],
      "source": [
        "#Get y and yc dataset\n",
        "def get_y(y_data):\n",
        "    y = list()\n",
        "    yc = list()\n",
        "\n",
        "    length = len(y_data)\n",
        "    for i in range(0, length, 1):\n",
        "        y_value = y_data[i + n_steps_in: i + (n_steps_in + n_steps_out)][:, 0]\n",
        "        yc_value = y_data[i: i + n_steps_in][:, :]\n",
        "        if len(y_value) == 1:\n",
        "            y.append(y_value)\n",
        "            yc.append(yc_value)\n",
        "\n",
        "    return np.array(y), np.array(yc)"
      ]
    },
    {
      "cell_type": "code",
      "execution_count": null,
      "metadata": {
        "id": "0bTvBhV42WIP"
      },
      "outputs": [],
      "source": [
        "#Get the train test predict index\n",
        "def predict_index(dataset, y_train, n_steps_in, n_steps_out):\n",
        "\n",
        "    train_predict_index = dataset.iloc[n_steps_in : y_train.shape[0] + n_steps_in + n_steps_out - 1, :].index\n",
        "    test_predict_index = dataset.iloc[y_train.shape[0] + n_steps_in:, :].index\n",
        "\n",
        "    return train_predict_index, test_predict_index"
      ]
    },
    {
      "cell_type": "code",
      "execution_count": null,
      "metadata": {
        "id": "i9T27IBg2YyU"
      },
      "outputs": [],
      "source": [
        "#Split train and test dataset\n",
        "def split_train_test(data):\n",
        "\n",
        "    train_size = round(len(y) * 0.8)\n",
        "    data_train = data[0:train_size]\n",
        "    data_test = data[train_size:]\n",
        "\n",
        "    return data_train, data_test"
      ]
    },
    {
      "cell_type": "code",
      "execution_count": null,
      "metadata": {
        "id": "r06DUZ8P2hUe"
      },
      "outputs": [],
      "source": [
        "#Get data and check shape\n",
        "y, yc = get_y(y_scale_dataset)\n",
        "y_train, y_test, = split_train_test(y)\n",
        "yc_train, yc_test, = split_train_test(yc)\n",
        "index_train, index_test, = predict_index(data, y_train, n_steps_in, n_steps_out)\n",
        "\n",
        "print('y shape: ', y.shape)\n",
        "print('y_train shape: ', y_train.shape)\n",
        "print('y_c_train shape: ', yc_train.shape)\n",
        "print('y_test shape: ', y_test.shape)\n",
        "print('y_c_test shape: ', yc_test.shape)\n",
        "print('index_train shape:', index_train.shape)\n",
        "print('index_test shape:', index_test.shape)\n",
        "\n",
        "np.save(\"y_train.npy\", y_train)\n",
        "np.save(\"y_test.npy\", y_test)\n",
        "np.save(\"yc_train.npy\", yc_train)\n",
        "np.save(\"yc_test.npy\", yc_test)\n",
        "np.save('index_train.npy', index_train)\n",
        "np.save('index_test.npy', index_test)"
      ]
    },
    {
      "cell_type": "code",
      "execution_count": null,
      "metadata": {
        "id": "w3CHtWBIj1xO"
      },
      "outputs": [],
      "source": [
        "#Make generator model\n",
        "def make_generator_model(input_dim, output_dim, feature_size) -> tf.keras.models.Model:\n",
        "\n",
        "    model = Sequential()\n",
        "    model.add(LSTM(units=1024, return_sequences=True, input_shape=(input_dim, feature_size), recurrent_dropout=0.3))\n",
        "    model.add(LSTM(units=512, return_sequences=True, recurrent_dropout=0.3))\n",
        "    model.add(LSTM(units=256, return_sequences=True, recurrent_dropout=0.3))\n",
        "    model.add(LSTM(units=128, return_sequences=True, recurrent_dropout=0.3))\n",
        "    model.add(LSTM(units=64, return_sequences=True, recurrent_dropout=0.3))\n",
        "    model.add(LSTM(units=output_dim, return_sequences=False))\n",
        "\n",
        "    return model"
      ]
    },
    {
      "cell_type": "code",
      "execution_count": null,
      "metadata": {
        "id": "NHveSs0ZVRgD"
      },
      "outputs": [],
      "source": [
        "input_dim = yc_train.shape[1]\n",
        "feature_size = yc_train.shape[2]\n",
        "output_dim = y_train.shape[1]\n",
        "\n",
        "model1 = make_generator_model(input_dim, output_dim, feature_size)\n",
        "print(model1.summary())"
      ]
    },
    {
      "cell_type": "code",
      "execution_count": null,
      "metadata": {
        "id": "_cUVqalp4mCR"
      },
      "outputs": [],
      "source": [
        "#Make discriminator model\n",
        "def make_discriminator_model() -> tf.keras.models.Model:\n",
        "\n",
        "    cnn_net = tf.keras.Sequential()\n",
        "    cnn_net.add(Conv1D(32, input_shape=(4, 1), kernel_size=3, strides=1, padding='same'))\n",
        "    cnn_net.add(Conv1D(64, kernel_size=5, strides=1, padding='same'))\n",
        "    cnn_net.add(Conv1D(128, kernel_size=5, strides=1, padding='same'))\n",
        "    cnn_net.add(Flatten())\n",
        "    cnn_net.add(Dense(220, use_bias=True))\n",
        "    cnn_net.add(Dense(220, use_bias=True))\n",
        "    cnn_net.add(Dense(1, activation='sigmoid'))\n",
        "\n",
        "    return cnn_net"
      ]
    },
    {
      "cell_type": "code",
      "execution_count": null,
      "metadata": {
        "colab": {
          "base_uri": "https://localhost:8080/"
        },
        "id": "ftr4XVEp9s0W",
        "outputId": "20aea19f-ff84-48e6-f4e1-f4d604077cea"
      },
      "outputs": [
        {
          "output_type": "stream",
          "name": "stdout",
          "text": [
            "Model: \"sequential_1\"\n",
            "_________________________________________________________________\n",
            " Layer (type)                Output Shape              Param #   \n",
            "=================================================================\n",
            " conv1d (Conv1D)             (None, 4, 32)             128       \n",
            "                                                                 \n",
            " conv1d_1 (Conv1D)           (None, 4, 64)             10304     \n",
            "                                                                 \n",
            " conv1d_2 (Conv1D)           (None, 4, 128)            41088     \n",
            "                                                                 \n",
            " flatten (Flatten)           (None, 512)               0         \n",
            "                                                                 \n",
            " dense (Dense)               (None, 220)               112860    \n",
            "                                                                 \n",
            " dense_1 (Dense)             (None, 220)               48620     \n",
            "                                                                 \n",
            " dense_2 (Dense)             (None, 1)                 221       \n",
            "                                                                 \n",
            "=================================================================\n",
            "Total params: 213,221\n",
            "Trainable params: 213,221\n",
            "Non-trainable params: 0\n",
            "_________________________________________________________________\n",
            "None\n"
          ]
        }
      ],
      "source": [
        "model2 = make_discriminator_model()\n",
        "print(model2.summary())"
      ]
    },
    {
      "cell_type": "code",
      "execution_count": null,
      "metadata": {
        "id": "0Ujf4RER9wT2"
      },
      "outputs": [],
      "source": [
        "#Train and evaluate GAN\n",
        "class GAN:\n",
        "\n",
        "    #Initialize and configure the essential elements of GAN model for training\n",
        "    def __init__(self, generator, discriminator, opt, seed):\n",
        "        self.seed = seed\n",
        "        tf.random.set_seed(seed)\n",
        "        self.opt = opt\n",
        "        self.lr = opt[\"lr\"]\n",
        "        self.generator = generator\n",
        "        self.discriminator = discriminator\n",
        "        self.cross_entropy = tf.keras.losses.BinaryCrossentropy(from_logits=True)\n",
        "        self.generator_optimizer = tf.keras.optimizers.Adam(learning_rate=opt[\"lr\"], beta_1=0.9, beta_2=0.999)\n",
        "        self.discriminator_optimizer = tf.keras.optimizers.Adam(learning_rate=opt[\"lr\"], beta_1=0.9, beta_2=0.999)\n",
        "        self.batch_size = self.opt['bs']\n",
        "        self.checkpoint_dir = '../training_checkpoints'\n",
        "        self.checkpoint_prefix = os.path.join(self.checkpoint_dir, \"ckpt\")\n",
        "        self.checkpoint = tf.train.Checkpoint(\n",
        "            generator_optimizer=self.generator_optimizer,\n",
        "            discriminator_optimizer=self.discriminator_optimizer,\n",
        "            generator=self.generator,\n",
        "            discriminator=self.discriminator)\n",
        "\n",
        "    #Calculate the discriminator loss\n",
        "    def discriminator_loss(self, real_output, fake_output):\n",
        "        real_loss = self.cross_entropy(tf.ones_like(real_output), real_output)\n",
        "        fake_loss = self.cross_entropy(tf.zeros_like(fake_output), fake_output)\n",
        "        total_loss = real_loss + fake_loss\n",
        "        return total_loss\n",
        "\n",
        "    #Calculate the generator loss\n",
        "    def generator_loss(self, fake_output):\n",
        "        return self.cross_entropy(tf.ones_like(fake_output), fake_output)\n",
        "\n",
        "    #Perform a single iteration of GAN training process\n",
        "    @tf.function\n",
        "    def train_step(self, real_y, yc):\n",
        "        with tf.GradientTape() as gen_tape, tf.GradientTape() as disc_tape:\n",
        "            generated_data = self.generator(real_y, training=True)\n",
        "            generated_data_reshape = tf.reshape(generated_data, [generated_data.shape[0], generated_data.shape[1], 1])\n",
        "            d_fake_input = tf.concat([tf.cast(generated_data_reshape, tf.float64), yc], axis=1)\n",
        "            real_y_reshape = tf.reshape(real_y, [real_y.shape[0], real_y.shape[1], 1])\n",
        "            d_real_input = tf.concat([real_y_reshape, yc], axis=1)\n",
        "\n",
        "            # Reshape for MLP\n",
        "            # d_fake_input = tf.reshape(d_fake_input, [d_fake_input.shape[0], d_fake_input.shape[1]])\n",
        "            # d_real_input = tf.reshape(d_real_input, [d_real_input.shape[0], d_real_input.shape[1]])\n",
        "\n",
        "            real_output = self.discriminator(d_real_input, training=True)\n",
        "            fake_output = self.discriminator(d_fake_input, training=True)\n",
        "\n",
        "            gen_loss = self.generator_loss(fake_output)\n",
        "            disc_loss = self.discriminator_loss(real_output, fake_output)\n",
        "\n",
        "        gradients_of_generator = gen_tape.gradient(gen_loss, self.generator.trainable_variables)\n",
        "        gradients_of_discriminator = disc_tape.gradient(disc_loss, self.discriminator.trainable_variables)\n",
        "\n",
        "        self.generator_optimizer.apply_gradients(zip(gradients_of_generator, self.generator.trainable_variables))\n",
        "        self.discriminator_optimizer.apply_gradients(\n",
        "            zip(gradients_of_discriminator, self.discriminator.trainable_variables))\n",
        "        return real_y, generated_data, {'d_loss': disc_loss, 'g_loss': gen_loss}\n",
        "\n",
        "    #Manage the entire training process for GAN model\n",
        "    def train(self, real_y, yc, opt):\n",
        "        train_hist = {}\n",
        "        train_hist['D_losses'] = []\n",
        "        train_hist['G_losses'] = []\n",
        "        train_hist['per_epoch_times'] = []\n",
        "        train_hist['total_ptime'] = []\n",
        "\n",
        "        epochs = opt[\"epoch\"]\n",
        "        for epoch in range(epochs):\n",
        "            start = time.time()\n",
        "\n",
        "            real_price, fake_price, loss = self.train_step(real_y, yc)\n",
        "\n",
        "            G_losses = []\n",
        "            D_losses = []\n",
        "\n",
        "            Real_price = []\n",
        "            Predicted_price = []\n",
        "\n",
        "            D_losses.append(loss['d_loss'].numpy())\n",
        "            G_losses.append(loss['g_loss'].numpy())\n",
        "\n",
        "            Predicted_price.append(fake_price.numpy())\n",
        "            Real_price.append(real_price.numpy())\n",
        "\n",
        "            #Save the model every epoch\n",
        "            if (epoch + 1) % 1 == 0:\n",
        "                tf.keras.models.save_model(generator, 'gen_model_3_1_%d.h5' % epoch)\n",
        "                self.checkpoint.save(file_prefix=self.checkpoint_prefix + f'-{epoch}')\n",
        "                print('epoch', epoch + 1, 'd_loss', loss['d_loss'].numpy(), 'g_loss', loss['g_loss'].numpy())\n",
        "\n",
        "            #For printing loss\n",
        "            epoch_end_time = time.time()\n",
        "            per_epoch_ptime = epoch_end_time - start\n",
        "            train_hist['D_losses'].append(D_losses)\n",
        "            train_hist['G_losses'].append(G_losses)\n",
        "            train_hist['per_epoch_times'].append(per_epoch_ptime)\n",
        "\n",
        "        #Reshape the predicted result & real\n",
        "        Predicted_price = np.array(Predicted_price)\n",
        "        Predicted_price = Predicted_price.reshape(Predicted_price.shape[1], Predicted_price.shape[2])\n",
        "        Real_price = np.array(Real_price)\n",
        "        Real_price = Real_price.reshape(Real_price.shape[1], Real_price.shape[2])\n",
        "\n",
        "        plt.plot(train_hist['D_losses'], label='D_loss')\n",
        "        plt.plot(train_hist['G_losses'], label='G_loss')\n",
        "        plt.xlabel('Epoch')\n",
        "        plt.ylabel('Loss')\n",
        "        plt.legend()\n",
        "        plt.show()\n",
        "\n",
        "        return Predicted_price, Real_price, mean_absolute_percentage_error(Real_price, Predicted_price) * 100"
      ]
    },
    {
      "cell_type": "code",
      "execution_count": null,
      "metadata": {
        "id": "Ft9SyCKj-A_z",
        "colab": {
          "base_uri": "https://localhost:8080/",
          "height": 1000
        },
        "outputId": "ab0822c4-c386-448a-dbcd-b0fd55009d89"
      },
      "outputs": [
        {
          "output_type": "stream",
          "name": "stderr",
          "text": [
            "/usr/local/lib/python3.10/dist-packages/keras/backend.py:5703: UserWarning: \"`binary_crossentropy` received `from_logits=True`, but the `output` argument was produced by a Sigmoid activation and thus does not represent logits. Was this intended?\n",
            "  output, from_logits = _get_logits(\n",
            "WARNING:tensorflow:Compiled the loaded model, but the compiled metrics have yet to be built. `model.compile_metrics` will be empty until you train or evaluate the model.\n"
          ]
        },
        {
          "output_type": "stream",
          "name": "stdout",
          "text": [
            "epoch 1 d_loss 1.4295043 g_loss 0.73418856\n"
          ]
        },
        {
          "output_type": "stream",
          "name": "stderr",
          "text": [
            "WARNING:tensorflow:Compiled the loaded model, but the compiled metrics have yet to be built. `model.compile_metrics` will be empty until you train or evaluate the model.\n"
          ]
        },
        {
          "output_type": "stream",
          "name": "stdout",
          "text": [
            "epoch 2 d_loss 1.4081872 g_loss 0.7206416\n"
          ]
        },
        {
          "output_type": "stream",
          "name": "stderr",
          "text": [
            "WARNING:tensorflow:Compiled the loaded model, but the compiled metrics have yet to be built. `model.compile_metrics` will be empty until you train or evaluate the model.\n"
          ]
        },
        {
          "output_type": "stream",
          "name": "stdout",
          "text": [
            "epoch 3 d_loss 1.3881453 g_loss 0.7094022\n"
          ]
        },
        {
          "output_type": "stream",
          "name": "stderr",
          "text": [
            "WARNING:tensorflow:Compiled the loaded model, but the compiled metrics have yet to be built. `model.compile_metrics` will be empty until you train or evaluate the model.\n"
          ]
        },
        {
          "output_type": "stream",
          "name": "stdout",
          "text": [
            "epoch 4 d_loss 1.3691385 g_loss 0.7008237\n"
          ]
        },
        {
          "output_type": "stream",
          "name": "stderr",
          "text": [
            "WARNING:tensorflow:Compiled the loaded model, but the compiled metrics have yet to be built. `model.compile_metrics` will be empty until you train or evaluate the model.\n"
          ]
        },
        {
          "output_type": "stream",
          "name": "stdout",
          "text": [
            "epoch 5 d_loss 1.3509068 g_loss 0.6950678\n"
          ]
        },
        {
          "output_type": "stream",
          "name": "stderr",
          "text": [
            "WARNING:tensorflow:Compiled the loaded model, but the compiled metrics have yet to be built. `model.compile_metrics` will be empty until you train or evaluate the model.\n"
          ]
        },
        {
          "output_type": "stream",
          "name": "stdout",
          "text": [
            "epoch 6 d_loss 1.3332021 g_loss 0.6922005\n"
          ]
        },
        {
          "output_type": "stream",
          "name": "stderr",
          "text": [
            "WARNING:tensorflow:Compiled the loaded model, but the compiled metrics have yet to be built. `model.compile_metrics` will be empty until you train or evaluate the model.\n"
          ]
        },
        {
          "output_type": "stream",
          "name": "stdout",
          "text": [
            "epoch 7 d_loss 1.3158115 g_loss 0.69214636\n"
          ]
        },
        {
          "output_type": "stream",
          "name": "stderr",
          "text": [
            "WARNING:tensorflow:Compiled the loaded model, but the compiled metrics have yet to be built. `model.compile_metrics` will be empty until you train or evaluate the model.\n"
          ]
        },
        {
          "output_type": "stream",
          "name": "stdout",
          "text": [
            "epoch 8 d_loss 1.2985806 g_loss 0.69466335\n"
          ]
        },
        {
          "output_type": "stream",
          "name": "stderr",
          "text": [
            "WARNING:tensorflow:Compiled the loaded model, but the compiled metrics have yet to be built. `model.compile_metrics` will be empty until you train or evaluate the model.\n"
          ]
        },
        {
          "output_type": "stream",
          "name": "stdout",
          "text": [
            "epoch 9 d_loss 1.2814118 g_loss 0.69944435\n"
          ]
        },
        {
          "output_type": "stream",
          "name": "stderr",
          "text": [
            "WARNING:tensorflow:Compiled the loaded model, but the compiled metrics have yet to be built. `model.compile_metrics` will be empty until you train or evaluate the model.\n"
          ]
        },
        {
          "output_type": "stream",
          "name": "stdout",
          "text": [
            "epoch 10 d_loss 1.2642472 g_loss 0.7061997\n"
          ]
        },
        {
          "output_type": "stream",
          "name": "stderr",
          "text": [
            "WARNING:tensorflow:Compiled the loaded model, but the compiled metrics have yet to be built. `model.compile_metrics` will be empty until you train or evaluate the model.\n"
          ]
        },
        {
          "output_type": "stream",
          "name": "stdout",
          "text": [
            "epoch 11 d_loss 1.2470518 g_loss 0.71468043\n"
          ]
        },
        {
          "output_type": "stream",
          "name": "stderr",
          "text": [
            "WARNING:tensorflow:Compiled the loaded model, but the compiled metrics have yet to be built. `model.compile_metrics` will be empty until you train or evaluate the model.\n"
          ]
        },
        {
          "output_type": "stream",
          "name": "stdout",
          "text": [
            "epoch 12 d_loss 1.2298044 g_loss 0.7246739\n"
          ]
        },
        {
          "output_type": "stream",
          "name": "stderr",
          "text": [
            "WARNING:tensorflow:Compiled the loaded model, but the compiled metrics have yet to be built. `model.compile_metrics` will be empty until you train or evaluate the model.\n"
          ]
        },
        {
          "output_type": "stream",
          "name": "stdout",
          "text": [
            "epoch 13 d_loss 1.2124901 g_loss 0.73599136\n"
          ]
        },
        {
          "output_type": "stream",
          "name": "stderr",
          "text": [
            "WARNING:tensorflow:Compiled the loaded model, but the compiled metrics have yet to be built. `model.compile_metrics` will be empty until you train or evaluate the model.\n"
          ]
        },
        {
          "output_type": "stream",
          "name": "stdout",
          "text": [
            "epoch 14 d_loss 1.1950965 g_loss 0.7484595\n"
          ]
        },
        {
          "output_type": "stream",
          "name": "stderr",
          "text": [
            "WARNING:tensorflow:Compiled the loaded model, but the compiled metrics have yet to be built. `model.compile_metrics` will be empty until you train or evaluate the model.\n"
          ]
        },
        {
          "output_type": "stream",
          "name": "stdout",
          "text": [
            "epoch 15 d_loss 1.1776104 g_loss 0.7619193\n"
          ]
        },
        {
          "output_type": "stream",
          "name": "stderr",
          "text": [
            "WARNING:tensorflow:Compiled the loaded model, but the compiled metrics have yet to be built. `model.compile_metrics` will be empty until you train or evaluate the model.\n"
          ]
        },
        {
          "output_type": "stream",
          "name": "stdout",
          "text": [
            "epoch 16 d_loss 1.1600171 g_loss 0.77622133\n"
          ]
        },
        {
          "output_type": "stream",
          "name": "stderr",
          "text": [
            "WARNING:tensorflow:Compiled the loaded model, but the compiled metrics have yet to be built. `model.compile_metrics` will be empty until you train or evaluate the model.\n"
          ]
        },
        {
          "output_type": "stream",
          "name": "stdout",
          "text": [
            "epoch 17 d_loss 1.1423001 g_loss 0.7912243\n"
          ]
        },
        {
          "output_type": "stream",
          "name": "stderr",
          "text": [
            "WARNING:tensorflow:Compiled the loaded model, but the compiled metrics have yet to be built. `model.compile_metrics` will be empty until you train or evaluate the model.\n"
          ]
        },
        {
          "output_type": "stream",
          "name": "stdout",
          "text": [
            "epoch 18 d_loss 1.1244403 g_loss 0.8067919\n"
          ]
        },
        {
          "output_type": "stream",
          "name": "stderr",
          "text": [
            "WARNING:tensorflow:Compiled the loaded model, but the compiled metrics have yet to be built. `model.compile_metrics` will be empty until you train or evaluate the model.\n"
          ]
        },
        {
          "output_type": "stream",
          "name": "stdout",
          "text": [
            "epoch 19 d_loss 1.106417 g_loss 0.8227949\n"
          ]
        },
        {
          "output_type": "stream",
          "name": "stderr",
          "text": [
            "WARNING:tensorflow:Compiled the loaded model, but the compiled metrics have yet to be built. `model.compile_metrics` will be empty until you train or evaluate the model.\n"
          ]
        },
        {
          "output_type": "stream",
          "name": "stdout",
          "text": [
            "epoch 20 d_loss 1.0882077 g_loss 0.8391133\n"
          ]
        },
        {
          "output_type": "stream",
          "name": "stderr",
          "text": [
            "WARNING:tensorflow:Compiled the loaded model, but the compiled metrics have yet to be built. `model.compile_metrics` will be empty until you train or evaluate the model.\n"
          ]
        },
        {
          "output_type": "stream",
          "name": "stdout",
          "text": [
            "epoch 21 d_loss 1.0697907 g_loss 0.8556423\n"
          ]
        },
        {
          "output_type": "stream",
          "name": "stderr",
          "text": [
            "WARNING:tensorflow:Compiled the loaded model, but the compiled metrics have yet to be built. `model.compile_metrics` will be empty until you train or evaluate the model.\n"
          ]
        },
        {
          "output_type": "stream",
          "name": "stdout",
          "text": [
            "epoch 22 d_loss 1.0511453 g_loss 0.872296\n"
          ]
        },
        {
          "output_type": "stream",
          "name": "stderr",
          "text": [
            "WARNING:tensorflow:Compiled the loaded model, but the compiled metrics have yet to be built. `model.compile_metrics` will be empty until you train or evaluate the model.\n"
          ]
        },
        {
          "output_type": "stream",
          "name": "stdout",
          "text": [
            "epoch 23 d_loss 1.032254 g_loss 0.88901186\n"
          ]
        },
        {
          "output_type": "stream",
          "name": "stderr",
          "text": [
            "WARNING:tensorflow:Compiled the loaded model, but the compiled metrics have yet to be built. `model.compile_metrics` will be empty until you train or evaluate the model.\n"
          ]
        },
        {
          "output_type": "stream",
          "name": "stdout",
          "text": [
            "epoch 24 d_loss 1.0131022 g_loss 0.90575415\n"
          ]
        },
        {
          "output_type": "stream",
          "name": "stderr",
          "text": [
            "WARNING:tensorflow:Compiled the loaded model, but the compiled metrics have yet to be built. `model.compile_metrics` will be empty until you train or evaluate the model.\n"
          ]
        },
        {
          "output_type": "stream",
          "name": "stdout",
          "text": [
            "epoch 25 d_loss 0.9936805 g_loss 0.92251617\n"
          ]
        },
        {
          "output_type": "stream",
          "name": "stderr",
          "text": [
            "WARNING:tensorflow:Compiled the loaded model, but the compiled metrics have yet to be built. `model.compile_metrics` will be empty until you train or evaluate the model.\n"
          ]
        },
        {
          "output_type": "stream",
          "name": "stdout",
          "text": [
            "epoch 26 d_loss 0.9739839 g_loss 0.9393243\n"
          ]
        },
        {
          "output_type": "stream",
          "name": "stderr",
          "text": [
            "WARNING:tensorflow:Compiled the loaded model, but the compiled metrics have yet to be built. `model.compile_metrics` will be empty until you train or evaluate the model.\n"
          ]
        },
        {
          "output_type": "stream",
          "name": "stdout",
          "text": [
            "epoch 27 d_loss 0.95401216 g_loss 0.9562378\n"
          ]
        },
        {
          "output_type": "stream",
          "name": "stderr",
          "text": [
            "WARNING:tensorflow:Compiled the loaded model, but the compiled metrics have yet to be built. `model.compile_metrics` will be empty until you train or evaluate the model.\n"
          ]
        },
        {
          "output_type": "stream",
          "name": "stdout",
          "text": [
            "epoch 28 d_loss 0.93376935 g_loss 0.9733507\n"
          ]
        },
        {
          "output_type": "stream",
          "name": "stderr",
          "text": [
            "WARNING:tensorflow:Compiled the loaded model, but the compiled metrics have yet to be built. `model.compile_metrics` will be empty until you train or evaluate the model.\n"
          ]
        },
        {
          "output_type": "stream",
          "name": "stdout",
          "text": [
            "epoch 29 d_loss 0.91326314 g_loss 0.99078846\n"
          ]
        },
        {
          "output_type": "stream",
          "name": "stderr",
          "text": [
            "WARNING:tensorflow:Compiled the loaded model, but the compiled metrics have yet to be built. `model.compile_metrics` will be empty until you train or evaluate the model.\n"
          ]
        },
        {
          "output_type": "stream",
          "name": "stdout",
          "text": [
            "epoch 30 d_loss 0.89250386 g_loss 1.0087042\n"
          ]
        },
        {
          "output_type": "stream",
          "name": "stderr",
          "text": [
            "WARNING:tensorflow:Compiled the loaded model, but the compiled metrics have yet to be built. `model.compile_metrics` will be empty until you train or evaluate the model.\n"
          ]
        },
        {
          "output_type": "stream",
          "name": "stdout",
          "text": [
            "epoch 31 d_loss 0.8715044 g_loss 1.0272738\n"
          ]
        },
        {
          "output_type": "stream",
          "name": "stderr",
          "text": [
            "WARNING:tensorflow:Compiled the loaded model, but the compiled metrics have yet to be built. `model.compile_metrics` will be empty until you train or evaluate the model.\n"
          ]
        },
        {
          "output_type": "stream",
          "name": "stdout",
          "text": [
            "epoch 32 d_loss 0.85027957 g_loss 1.0466847\n"
          ]
        },
        {
          "output_type": "stream",
          "name": "stderr",
          "text": [
            "WARNING:tensorflow:Compiled the loaded model, but the compiled metrics have yet to be built. `model.compile_metrics` will be empty until you train or evaluate the model.\n"
          ]
        },
        {
          "output_type": "stream",
          "name": "stdout",
          "text": [
            "epoch 33 d_loss 0.8288459 g_loss 1.0671287\n"
          ]
        },
        {
          "output_type": "stream",
          "name": "stderr",
          "text": [
            "WARNING:tensorflow:Compiled the loaded model, but the compiled metrics have yet to be built. `model.compile_metrics` will be empty until you train or evaluate the model.\n"
          ]
        },
        {
          "output_type": "stream",
          "name": "stdout",
          "text": [
            "epoch 34 d_loss 0.80722237 g_loss 1.0887882\n"
          ]
        },
        {
          "output_type": "stream",
          "name": "stderr",
          "text": [
            "WARNING:tensorflow:Compiled the loaded model, but the compiled metrics have yet to be built. `model.compile_metrics` will be empty until you train or evaluate the model.\n"
          ]
        },
        {
          "output_type": "stream",
          "name": "stdout",
          "text": [
            "epoch 35 d_loss 0.7854304 g_loss 1.1118265\n"
          ]
        },
        {
          "output_type": "stream",
          "name": "stderr",
          "text": [
            "WARNING:tensorflow:Compiled the loaded model, but the compiled metrics have yet to be built. `model.compile_metrics` will be empty until you train or evaluate the model.\n"
          ]
        },
        {
          "output_type": "stream",
          "name": "stdout",
          "text": [
            "epoch 36 d_loss 0.76349485 g_loss 1.1363777\n"
          ]
        },
        {
          "output_type": "stream",
          "name": "stderr",
          "text": [
            "WARNING:tensorflow:Compiled the loaded model, but the compiled metrics have yet to be built. `model.compile_metrics` will be empty until you train or evaluate the model.\n"
          ]
        },
        {
          "output_type": "stream",
          "name": "stdout",
          "text": [
            "epoch 37 d_loss 0.74144447 g_loss 1.1625369\n"
          ]
        },
        {
          "output_type": "stream",
          "name": "stderr",
          "text": [
            "WARNING:tensorflow:Compiled the loaded model, but the compiled metrics have yet to be built. `model.compile_metrics` will be empty until you train or evaluate the model.\n"
          ]
        },
        {
          "output_type": "stream",
          "name": "stdout",
          "text": [
            "epoch 38 d_loss 0.7193115 g_loss 1.1903543\n"
          ]
        },
        {
          "output_type": "stream",
          "name": "stderr",
          "text": [
            "WARNING:tensorflow:Compiled the loaded model, but the compiled metrics have yet to be built. `model.compile_metrics` will be empty until you train or evaluate the model.\n"
          ]
        },
        {
          "output_type": "stream",
          "name": "stdout",
          "text": [
            "epoch 39 d_loss 0.6971315 g_loss 1.2198325\n"
          ]
        },
        {
          "output_type": "stream",
          "name": "stderr",
          "text": [
            "WARNING:tensorflow:Compiled the loaded model, but the compiled metrics have yet to be built. `model.compile_metrics` will be empty until you train or evaluate the model.\n"
          ]
        },
        {
          "output_type": "stream",
          "name": "stdout",
          "text": [
            "epoch 40 d_loss 0.6749434 g_loss 1.2509253\n"
          ]
        },
        {
          "output_type": "stream",
          "name": "stderr",
          "text": [
            "WARNING:tensorflow:Compiled the loaded model, but the compiled metrics have yet to be built. `model.compile_metrics` will be empty until you train or evaluate the model.\n"
          ]
        },
        {
          "output_type": "stream",
          "name": "stdout",
          "text": [
            "epoch 41 d_loss 0.6527876 g_loss 1.2835428\n"
          ]
        },
        {
          "output_type": "stream",
          "name": "stderr",
          "text": [
            "WARNING:tensorflow:Compiled the loaded model, but the compiled metrics have yet to be built. `model.compile_metrics` will be empty until you train or evaluate the model.\n"
          ]
        },
        {
          "output_type": "stream",
          "name": "stdout",
          "text": [
            "epoch 42 d_loss 0.6307061 g_loss 1.3175594\n"
          ]
        },
        {
          "output_type": "stream",
          "name": "stderr",
          "text": [
            "WARNING:tensorflow:Compiled the loaded model, but the compiled metrics have yet to be built. `model.compile_metrics` will be empty until you train or evaluate the model.\n"
          ]
        },
        {
          "output_type": "stream",
          "name": "stdout",
          "text": [
            "epoch 43 d_loss 0.6087413 g_loss 1.3528275\n"
          ]
        },
        {
          "output_type": "stream",
          "name": "stderr",
          "text": [
            "WARNING:tensorflow:Compiled the loaded model, but the compiled metrics have yet to be built. `model.compile_metrics` will be empty until you train or evaluate the model.\n"
          ]
        },
        {
          "output_type": "stream",
          "name": "stdout",
          "text": [
            "epoch 44 d_loss 0.5869361 g_loss 1.3891948\n"
          ]
        },
        {
          "output_type": "stream",
          "name": "stderr",
          "text": [
            "WARNING:tensorflow:Compiled the loaded model, but the compiled metrics have yet to be built. `model.compile_metrics` will be empty until you train or evaluate the model.\n"
          ]
        },
        {
          "output_type": "stream",
          "name": "stdout",
          "text": [
            "epoch 45 d_loss 0.56533384 g_loss 1.4265243\n"
          ]
        },
        {
          "output_type": "stream",
          "name": "stderr",
          "text": [
            "WARNING:tensorflow:Compiled the loaded model, but the compiled metrics have yet to be built. `model.compile_metrics` will be empty until you train or evaluate the model.\n"
          ]
        },
        {
          "output_type": "stream",
          "name": "stdout",
          "text": [
            "epoch 46 d_loss 0.54397786 g_loss 1.4647132\n"
          ]
        },
        {
          "output_type": "stream",
          "name": "stderr",
          "text": [
            "WARNING:tensorflow:Compiled the loaded model, but the compiled metrics have yet to be built. `model.compile_metrics` will be empty until you train or evaluate the model.\n"
          ]
        },
        {
          "output_type": "stream",
          "name": "stdout",
          "text": [
            "epoch 47 d_loss 0.5229118 g_loss 1.5037103\n"
          ]
        },
        {
          "output_type": "stream",
          "name": "stderr",
          "text": [
            "WARNING:tensorflow:Compiled the loaded model, but the compiled metrics have yet to be built. `model.compile_metrics` will be empty until you train or evaluate the model.\n"
          ]
        },
        {
          "output_type": "stream",
          "name": "stdout",
          "text": [
            "epoch 48 d_loss 0.50217927 g_loss 1.543526\n"
          ]
        },
        {
          "output_type": "stream",
          "name": "stderr",
          "text": [
            "WARNING:tensorflow:Compiled the loaded model, but the compiled metrics have yet to be built. `model.compile_metrics` will be empty until you train or evaluate the model.\n"
          ]
        },
        {
          "output_type": "stream",
          "name": "stdout",
          "text": [
            "epoch 49 d_loss 0.48182243 g_loss 1.5842329\n"
          ]
        },
        {
          "output_type": "stream",
          "name": "stderr",
          "text": [
            "WARNING:tensorflow:Compiled the loaded model, but the compiled metrics have yet to be built. `model.compile_metrics` will be empty until you train or evaluate the model.\n"
          ]
        },
        {
          "output_type": "stream",
          "name": "stdout",
          "text": [
            "epoch 50 d_loss 0.46188223 g_loss 1.6259569\n"
          ]
        },
        {
          "output_type": "stream",
          "name": "stderr",
          "text": [
            "WARNING:tensorflow:Compiled the loaded model, but the compiled metrics have yet to be built. `model.compile_metrics` will be empty until you train or evaluate the model.\n"
          ]
        },
        {
          "output_type": "stream",
          "name": "stdout",
          "text": [
            "epoch 51 d_loss 0.44239652 g_loss 1.6688579\n"
          ]
        },
        {
          "output_type": "stream",
          "name": "stderr",
          "text": [
            "WARNING:tensorflow:Compiled the loaded model, but the compiled metrics have yet to be built. `model.compile_metrics` will be empty until you train or evaluate the model.\n"
          ]
        },
        {
          "output_type": "stream",
          "name": "stdout",
          "text": [
            "epoch 52 d_loss 0.42340028 g_loss 1.7131062\n"
          ]
        },
        {
          "output_type": "stream",
          "name": "stderr",
          "text": [
            "WARNING:tensorflow:Compiled the loaded model, but the compiled metrics have yet to be built. `model.compile_metrics` will be empty until you train or evaluate the model.\n"
          ]
        },
        {
          "output_type": "stream",
          "name": "stdout",
          "text": [
            "epoch 53 d_loss 0.40492445 g_loss 1.7588495\n"
          ]
        },
        {
          "output_type": "stream",
          "name": "stderr",
          "text": [
            "WARNING:tensorflow:Compiled the loaded model, but the compiled metrics have yet to be built. `model.compile_metrics` will be empty until you train or evaluate the model.\n"
          ]
        },
        {
          "output_type": "stream",
          "name": "stdout",
          "text": [
            "epoch 54 d_loss 0.38699678 g_loss 1.8061894\n"
          ]
        },
        {
          "output_type": "stream",
          "name": "stderr",
          "text": [
            "WARNING:tensorflow:Compiled the loaded model, but the compiled metrics have yet to be built. `model.compile_metrics` will be empty until you train or evaluate the model.\n"
          ]
        },
        {
          "output_type": "stream",
          "name": "stdout",
          "text": [
            "epoch 55 d_loss 0.36964113 g_loss 1.8551557\n"
          ]
        },
        {
          "output_type": "stream",
          "name": "stderr",
          "text": [
            "WARNING:tensorflow:Compiled the loaded model, but the compiled metrics have yet to be built. `model.compile_metrics` will be empty until you train or evaluate the model.\n"
          ]
        },
        {
          "output_type": "stream",
          "name": "stdout",
          "text": [
            "epoch 56 d_loss 0.35287774 g_loss 1.9056962\n"
          ]
        },
        {
          "output_type": "stream",
          "name": "stderr",
          "text": [
            "WARNING:tensorflow:Compiled the loaded model, but the compiled metrics have yet to be built. `model.compile_metrics` will be empty until you train or evaluate the model.\n"
          ]
        },
        {
          "output_type": "stream",
          "name": "stdout",
          "text": [
            "epoch 57 d_loss 0.33672285 g_loss 1.9576772\n"
          ]
        },
        {
          "output_type": "stream",
          "name": "stderr",
          "text": [
            "WARNING:tensorflow:Compiled the loaded model, but the compiled metrics have yet to be built. `model.compile_metrics` will be empty until you train or evaluate the model.\n"
          ]
        },
        {
          "output_type": "stream",
          "name": "stdout",
          "text": [
            "epoch 58 d_loss 0.3211887 g_loss 2.0108948\n"
          ]
        },
        {
          "output_type": "stream",
          "name": "stderr",
          "text": [
            "WARNING:tensorflow:Compiled the loaded model, but the compiled metrics have yet to be built. `model.compile_metrics` will be empty until you train or evaluate the model.\n"
          ]
        },
        {
          "output_type": "stream",
          "name": "stdout",
          "text": [
            "epoch 59 d_loss 0.3062831 g_loss 2.0650995\n"
          ]
        },
        {
          "output_type": "stream",
          "name": "stderr",
          "text": [
            "WARNING:tensorflow:Compiled the loaded model, but the compiled metrics have yet to be built. `model.compile_metrics` will be empty until you train or evaluate the model.\n"
          ]
        },
        {
          "output_type": "stream",
          "name": "stdout",
          "text": [
            "epoch 60 d_loss 0.2920097 g_loss 2.1200266\n"
          ]
        },
        {
          "output_type": "stream",
          "name": "stderr",
          "text": [
            "WARNING:tensorflow:Compiled the loaded model, but the compiled metrics have yet to be built. `model.compile_metrics` will be empty until you train or evaluate the model.\n"
          ]
        },
        {
          "output_type": "stream",
          "name": "stdout",
          "text": [
            "epoch 61 d_loss 0.27836818 g_loss 2.175428\n"
          ]
        },
        {
          "output_type": "stream",
          "name": "stderr",
          "text": [
            "WARNING:tensorflow:Compiled the loaded model, but the compiled metrics have yet to be built. `model.compile_metrics` will be empty until you train or evaluate the model.\n"
          ]
        },
        {
          "output_type": "stream",
          "name": "stdout",
          "text": [
            "epoch 62 d_loss 0.2653544 g_loss 2.2311018\n"
          ]
        },
        {
          "output_type": "stream",
          "name": "stderr",
          "text": [
            "WARNING:tensorflow:Compiled the loaded model, but the compiled metrics have yet to be built. `model.compile_metrics` will be empty until you train or evaluate the model.\n"
          ]
        },
        {
          "output_type": "stream",
          "name": "stdout",
          "text": [
            "epoch 63 d_loss 0.25296116 g_loss 2.2869096\n"
          ]
        },
        {
          "output_type": "stream",
          "name": "stderr",
          "text": [
            "WARNING:tensorflow:Compiled the loaded model, but the compiled metrics have yet to be built. `model.compile_metrics` will be empty until you train or evaluate the model.\n"
          ]
        },
        {
          "output_type": "stream",
          "name": "stdout",
          "text": [
            "epoch 64 d_loss 0.24117848 g_loss 2.3427846\n"
          ]
        },
        {
          "output_type": "stream",
          "name": "stderr",
          "text": [
            "WARNING:tensorflow:Compiled the loaded model, but the compiled metrics have yet to be built. `model.compile_metrics` will be empty until you train or evaluate the model.\n"
          ]
        },
        {
          "output_type": "stream",
          "name": "stdout",
          "text": [
            "epoch 65 d_loss 0.22999366 g_loss 2.3987253\n"
          ]
        },
        {
          "output_type": "stream",
          "name": "stderr",
          "text": [
            "WARNING:tensorflow:Compiled the loaded model, but the compiled metrics have yet to be built. `model.compile_metrics` will be empty until you train or evaluate the model.\n"
          ]
        },
        {
          "output_type": "stream",
          "name": "stdout",
          "text": [
            "epoch 66 d_loss 0.21939176 g_loss 2.4547753\n"
          ]
        },
        {
          "output_type": "stream",
          "name": "stderr",
          "text": [
            "WARNING:tensorflow:Compiled the loaded model, but the compiled metrics have yet to be built. `model.compile_metrics` will be empty until you train or evaluate the model.\n"
          ]
        },
        {
          "output_type": "stream",
          "name": "stdout",
          "text": [
            "epoch 67 d_loss 0.20935571 g_loss 2.5110037\n"
          ]
        },
        {
          "output_type": "stream",
          "name": "stderr",
          "text": [
            "WARNING:tensorflow:Compiled the loaded model, but the compiled metrics have yet to be built. `model.compile_metrics` will be empty until you train or evaluate the model.\n"
          ]
        },
        {
          "output_type": "stream",
          "name": "stdout",
          "text": [
            "epoch 68 d_loss 0.19986682 g_loss 2.5674765\n"
          ]
        },
        {
          "output_type": "stream",
          "name": "stderr",
          "text": [
            "WARNING:tensorflow:Compiled the loaded model, but the compiled metrics have yet to be built. `model.compile_metrics` will be empty until you train or evaluate the model.\n"
          ]
        },
        {
          "output_type": "stream",
          "name": "stdout",
          "text": [
            "epoch 69 d_loss 0.190905 g_loss 2.624235\n"
          ]
        },
        {
          "output_type": "stream",
          "name": "stderr",
          "text": [
            "WARNING:tensorflow:Compiled the loaded model, but the compiled metrics have yet to be built. `model.compile_metrics` will be empty until you train or evaluate the model.\n"
          ]
        },
        {
          "output_type": "stream",
          "name": "stdout",
          "text": [
            "epoch 70 d_loss 0.18244922 g_loss 2.6812792\n"
          ]
        },
        {
          "output_type": "stream",
          "name": "stderr",
          "text": [
            "WARNING:tensorflow:Compiled the loaded model, but the compiled metrics have yet to be built. `model.compile_metrics` will be empty until you train or evaluate the model.\n"
          ]
        },
        {
          "output_type": "stream",
          "name": "stdout",
          "text": [
            "epoch 71 d_loss 0.17447782 g_loss 2.7385597\n"
          ]
        },
        {
          "output_type": "stream",
          "name": "stderr",
          "text": [
            "WARNING:tensorflow:Compiled the loaded model, but the compiled metrics have yet to be built. `model.compile_metrics` will be empty until you train or evaluate the model.\n"
          ]
        },
        {
          "output_type": "stream",
          "name": "stdout",
          "text": [
            "epoch 72 d_loss 0.16696894 g_loss 2.7959814\n"
          ]
        },
        {
          "output_type": "stream",
          "name": "stderr",
          "text": [
            "WARNING:tensorflow:Compiled the loaded model, but the compiled metrics have yet to be built. `model.compile_metrics` will be empty until you train or evaluate the model.\n"
          ]
        },
        {
          "output_type": "stream",
          "name": "stdout",
          "text": [
            "epoch 73 d_loss 0.15990052 g_loss 2.8534086\n"
          ]
        },
        {
          "output_type": "stream",
          "name": "stderr",
          "text": [
            "WARNING:tensorflow:Compiled the loaded model, but the compiled metrics have yet to be built. `model.compile_metrics` will be empty until you train or evaluate the model.\n"
          ]
        },
        {
          "output_type": "stream",
          "name": "stdout",
          "text": [
            "epoch 74 d_loss 0.15325062 g_loss 2.9106817\n"
          ]
        },
        {
          "output_type": "stream",
          "name": "stderr",
          "text": [
            "WARNING:tensorflow:Compiled the loaded model, but the compiled metrics have yet to be built. `model.compile_metrics` will be empty until you train or evaluate the model.\n"
          ]
        },
        {
          "output_type": "stream",
          "name": "stdout",
          "text": [
            "epoch 75 d_loss 0.14699763 g_loss 2.9676352\n"
          ]
        },
        {
          "output_type": "stream",
          "name": "stderr",
          "text": [
            "WARNING:tensorflow:Compiled the loaded model, but the compiled metrics have yet to be built. `model.compile_metrics` will be empty until you train or evaluate the model.\n"
          ]
        },
        {
          "output_type": "stream",
          "name": "stdout",
          "text": [
            "epoch 76 d_loss 0.14112027 g_loss 3.0241115\n"
          ]
        },
        {
          "output_type": "stream",
          "name": "stderr",
          "text": [
            "WARNING:tensorflow:Compiled the loaded model, but the compiled metrics have yet to be built. `model.compile_metrics` will be empty until you train or evaluate the model.\n"
          ]
        },
        {
          "output_type": "stream",
          "name": "stdout",
          "text": [
            "epoch 77 d_loss 0.13559788 g_loss 3.0799763\n"
          ]
        },
        {
          "output_type": "stream",
          "name": "stderr",
          "text": [
            "WARNING:tensorflow:Compiled the loaded model, but the compiled metrics have yet to be built. `model.compile_metrics` will be empty until you train or evaluate the model.\n"
          ]
        },
        {
          "output_type": "stream",
          "name": "stdout",
          "text": [
            "epoch 78 d_loss 0.13041043 g_loss 3.135129\n"
          ]
        },
        {
          "output_type": "stream",
          "name": "stderr",
          "text": [
            "WARNING:tensorflow:Compiled the loaded model, but the compiled metrics have yet to be built. `model.compile_metrics` will be empty until you train or evaluate the model.\n"
          ]
        },
        {
          "output_type": "stream",
          "name": "stdout",
          "text": [
            "epoch 79 d_loss 0.12553869 g_loss 3.1895041\n"
          ]
        },
        {
          "output_type": "stream",
          "name": "stderr",
          "text": [
            "WARNING:tensorflow:Compiled the loaded model, but the compiled metrics have yet to be built. `model.compile_metrics` will be empty until you train or evaluate the model.\n"
          ]
        },
        {
          "output_type": "stream",
          "name": "stdout",
          "text": [
            "epoch 80 d_loss 0.12096423 g_loss 3.2430727\n"
          ]
        },
        {
          "output_type": "stream",
          "name": "stderr",
          "text": [
            "WARNING:tensorflow:Compiled the loaded model, but the compiled metrics have yet to be built. `model.compile_metrics` will be empty until you train or evaluate the model.\n"
          ]
        },
        {
          "output_type": "stream",
          "name": "stdout",
          "text": [
            "epoch 81 d_loss 0.11666946 g_loss 3.2958362\n"
          ]
        },
        {
          "output_type": "stream",
          "name": "stderr",
          "text": [
            "WARNING:tensorflow:Compiled the loaded model, but the compiled metrics have yet to be built. `model.compile_metrics` will be empty until you train or evaluate the model.\n"
          ]
        },
        {
          "output_type": "stream",
          "name": "stdout",
          "text": [
            "epoch 82 d_loss 0.11263772 g_loss 3.3478177\n"
          ]
        },
        {
          "output_type": "stream",
          "name": "stderr",
          "text": [
            "WARNING:tensorflow:Compiled the loaded model, but the compiled metrics have yet to be built. `model.compile_metrics` will be empty until you train or evaluate the model.\n"
          ]
        },
        {
          "output_type": "stream",
          "name": "stdout",
          "text": [
            "epoch 83 d_loss 0.108853154 g_loss 3.3990545\n"
          ]
        },
        {
          "output_type": "stream",
          "name": "stderr",
          "text": [
            "WARNING:tensorflow:Compiled the loaded model, but the compiled metrics have yet to be built. `model.compile_metrics` will be empty until you train or evaluate the model.\n"
          ]
        },
        {
          "output_type": "stream",
          "name": "stdout",
          "text": [
            "epoch 84 d_loss 0.10530086 g_loss 3.4495842\n"
          ]
        },
        {
          "output_type": "stream",
          "name": "stderr",
          "text": [
            "WARNING:tensorflow:Compiled the loaded model, but the compiled metrics have yet to be built. `model.compile_metrics` will be empty until you train or evaluate the model.\n"
          ]
        },
        {
          "output_type": "stream",
          "name": "stdout",
          "text": [
            "epoch 85 d_loss 0.1019667 g_loss 3.4994407\n"
          ]
        },
        {
          "output_type": "stream",
          "name": "stderr",
          "text": [
            "WARNING:tensorflow:Compiled the loaded model, but the compiled metrics have yet to be built. `model.compile_metrics` will be empty until you train or evaluate the model.\n"
          ]
        },
        {
          "output_type": "stream",
          "name": "stdout",
          "text": [
            "epoch 86 d_loss 0.0988375 g_loss 3.5486434\n"
          ]
        },
        {
          "output_type": "stream",
          "name": "stderr",
          "text": [
            "WARNING:tensorflow:Compiled the loaded model, but the compiled metrics have yet to be built. `model.compile_metrics` will be empty until you train or evaluate the model.\n"
          ]
        },
        {
          "output_type": "stream",
          "name": "stdout",
          "text": [
            "epoch 87 d_loss 0.09590088 g_loss 3.5971963\n"
          ]
        },
        {
          "output_type": "stream",
          "name": "stderr",
          "text": [
            "WARNING:tensorflow:Compiled the loaded model, but the compiled metrics have yet to be built. `model.compile_metrics` will be empty until you train or evaluate the model.\n"
          ]
        },
        {
          "output_type": "stream",
          "name": "stdout",
          "text": [
            "epoch 88 d_loss 0.09314525 g_loss 3.645084\n"
          ]
        },
        {
          "output_type": "stream",
          "name": "stderr",
          "text": [
            "WARNING:tensorflow:Compiled the loaded model, but the compiled metrics have yet to be built. `model.compile_metrics` will be empty until you train or evaluate the model.\n"
          ]
        },
        {
          "output_type": "stream",
          "name": "stdout",
          "text": [
            "epoch 89 d_loss 0.0905599 g_loss 3.692273\n"
          ]
        },
        {
          "output_type": "stream",
          "name": "stderr",
          "text": [
            "WARNING:tensorflow:Compiled the loaded model, but the compiled metrics have yet to be built. `model.compile_metrics` will be empty until you train or evaluate the model.\n"
          ]
        },
        {
          "output_type": "stream",
          "name": "stdout",
          "text": [
            "epoch 90 d_loss 0.08813482 g_loss 3.7387187\n"
          ]
        },
        {
          "output_type": "stream",
          "name": "stderr",
          "text": [
            "WARNING:tensorflow:Compiled the loaded model, but the compiled metrics have yet to be built. `model.compile_metrics` will be empty until you train or evaluate the model.\n"
          ]
        },
        {
          "output_type": "stream",
          "name": "stdout",
          "text": [
            "epoch 91 d_loss 0.0858607 g_loss 3.784362\n"
          ]
        },
        {
          "output_type": "stream",
          "name": "stderr",
          "text": [
            "WARNING:tensorflow:Compiled the loaded model, but the compiled metrics have yet to be built. `model.compile_metrics` will be empty until you train or evaluate the model.\n"
          ]
        },
        {
          "output_type": "stream",
          "name": "stdout",
          "text": [
            "epoch 92 d_loss 0.08372902 g_loss 3.8291416\n"
          ]
        },
        {
          "output_type": "stream",
          "name": "stderr",
          "text": [
            "WARNING:tensorflow:Compiled the loaded model, but the compiled metrics have yet to be built. `model.compile_metrics` will be empty until you train or evaluate the model.\n"
          ]
        },
        {
          "output_type": "stream",
          "name": "stdout",
          "text": [
            "epoch 93 d_loss 0.081731826 g_loss 3.872994\n"
          ]
        },
        {
          "output_type": "stream",
          "name": "stderr",
          "text": [
            "WARNING:tensorflow:Compiled the loaded model, but the compiled metrics have yet to be built. `model.compile_metrics` will be empty until you train or evaluate the model.\n"
          ]
        },
        {
          "output_type": "stream",
          "name": "stdout",
          "text": [
            "epoch 94 d_loss 0.07986182 g_loss 3.915861\n"
          ]
        },
        {
          "output_type": "stream",
          "name": "stderr",
          "text": [
            "WARNING:tensorflow:Compiled the loaded model, but the compiled metrics have yet to be built. `model.compile_metrics` will be empty until you train or evaluate the model.\n"
          ]
        },
        {
          "output_type": "stream",
          "name": "stdout",
          "text": [
            "epoch 95 d_loss 0.07811232 g_loss 3.9576907\n"
          ]
        },
        {
          "output_type": "stream",
          "name": "stderr",
          "text": [
            "WARNING:tensorflow:Compiled the loaded model, but the compiled metrics have yet to be built. `model.compile_metrics` will be empty until you train or evaluate the model.\n"
          ]
        },
        {
          "output_type": "stream",
          "name": "stdout",
          "text": [
            "epoch 96 d_loss 0.076477185 g_loss 3.9984415\n"
          ]
        },
        {
          "output_type": "stream",
          "name": "stderr",
          "text": [
            "WARNING:tensorflow:Compiled the loaded model, but the compiled metrics have yet to be built. `model.compile_metrics` will be empty until you train or evaluate the model.\n"
          ]
        },
        {
          "output_type": "stream",
          "name": "stdout",
          "text": [
            "epoch 97 d_loss 0.0749508 g_loss 4.038081\n"
          ]
        },
        {
          "output_type": "stream",
          "name": "stderr",
          "text": [
            "WARNING:tensorflow:Compiled the loaded model, but the compiled metrics have yet to be built. `model.compile_metrics` will be empty until you train or evaluate the model.\n"
          ]
        },
        {
          "output_type": "stream",
          "name": "stdout",
          "text": [
            "epoch 98 d_loss 0.0735281 g_loss 4.0765867\n"
          ]
        },
        {
          "output_type": "stream",
          "name": "stderr",
          "text": [
            "WARNING:tensorflow:Compiled the loaded model, but the compiled metrics have yet to be built. `model.compile_metrics` will be empty until you train or evaluate the model.\n"
          ]
        },
        {
          "output_type": "stream",
          "name": "stdout",
          "text": [
            "epoch 99 d_loss 0.0722045 g_loss 4.1139426\n"
          ]
        },
        {
          "output_type": "stream",
          "name": "stderr",
          "text": [
            "WARNING:tensorflow:Compiled the loaded model, but the compiled metrics have yet to be built. `model.compile_metrics` will be empty until you train or evaluate the model.\n"
          ]
        },
        {
          "output_type": "stream",
          "name": "stdout",
          "text": [
            "epoch 100 d_loss 0.07097584 g_loss 4.1501393\n"
          ]
        },
        {
          "output_type": "stream",
          "name": "stderr",
          "text": [
            "WARNING:tensorflow:Compiled the loaded model, but the compiled metrics have yet to be built. `model.compile_metrics` will be empty until you train or evaluate the model.\n"
          ]
        },
        {
          "output_type": "stream",
          "name": "stdout",
          "text": [
            "epoch 101 d_loss 0.069838464 g_loss 4.1851683\n"
          ]
        },
        {
          "output_type": "stream",
          "name": "stderr",
          "text": [
            "WARNING:tensorflow:Compiled the loaded model, but the compiled metrics have yet to be built. `model.compile_metrics` will be empty until you train or evaluate the model.\n"
          ]
        },
        {
          "output_type": "stream",
          "name": "stdout",
          "text": [
            "epoch 102 d_loss 0.06878913 g_loss 4.219022\n"
          ]
        },
        {
          "output_type": "stream",
          "name": "stderr",
          "text": [
            "WARNING:tensorflow:Compiled the loaded model, but the compiled metrics have yet to be built. `model.compile_metrics` will be empty until you train or evaluate the model.\n"
          ]
        },
        {
          "output_type": "stream",
          "name": "stdout",
          "text": [
            "epoch 103 d_loss 0.06782503 g_loss 4.251686\n"
          ]
        },
        {
          "output_type": "stream",
          "name": "stderr",
          "text": [
            "WARNING:tensorflow:Compiled the loaded model, but the compiled metrics have yet to be built. `model.compile_metrics` will be empty until you train or evaluate the model.\n"
          ]
        },
        {
          "output_type": "stream",
          "name": "stdout",
          "text": [
            "epoch 104 d_loss 0.06694375 g_loss 4.283141\n"
          ]
        },
        {
          "output_type": "stream",
          "name": "stderr",
          "text": [
            "WARNING:tensorflow:Compiled the loaded model, but the compiled metrics have yet to be built. `model.compile_metrics` will be empty until you train or evaluate the model.\n"
          ]
        },
        {
          "output_type": "stream",
          "name": "stdout",
          "text": [
            "epoch 105 d_loss 0.066143304 g_loss 4.3133597\n"
          ]
        },
        {
          "output_type": "stream",
          "name": "stderr",
          "text": [
            "WARNING:tensorflow:Compiled the loaded model, but the compiled metrics have yet to be built. `model.compile_metrics` will be empty until you train or evaluate the model.\n"
          ]
        },
        {
          "output_type": "stream",
          "name": "stdout",
          "text": [
            "epoch 106 d_loss 0.06542212 g_loss 4.3423033\n"
          ]
        },
        {
          "output_type": "stream",
          "name": "stderr",
          "text": [
            "WARNING:tensorflow:Compiled the loaded model, but the compiled metrics have yet to be built. `model.compile_metrics` will be empty until you train or evaluate the model.\n"
          ]
        },
        {
          "output_type": "stream",
          "name": "stdout",
          "text": [
            "epoch 107 d_loss 0.064779 g_loss 4.369924\n"
          ]
        },
        {
          "output_type": "stream",
          "name": "stderr",
          "text": [
            "WARNING:tensorflow:Compiled the loaded model, but the compiled metrics have yet to be built. `model.compile_metrics` will be empty until you train or evaluate the model.\n"
          ]
        },
        {
          "output_type": "stream",
          "name": "stdout",
          "text": [
            "epoch 108 d_loss 0.06421317 g_loss 4.396167\n"
          ]
        },
        {
          "output_type": "stream",
          "name": "stderr",
          "text": [
            "WARNING:tensorflow:Compiled the loaded model, but the compiled metrics have yet to be built. `model.compile_metrics` will be empty until you train or evaluate the model.\n"
          ]
        },
        {
          "output_type": "stream",
          "name": "stdout",
          "text": [
            "epoch 109 d_loss 0.06372429 g_loss 4.420964\n"
          ]
        },
        {
          "output_type": "stream",
          "name": "stderr",
          "text": [
            "WARNING:tensorflow:Compiled the loaded model, but the compiled metrics have yet to be built. `model.compile_metrics` will be empty until you train or evaluate the model.\n"
          ]
        },
        {
          "output_type": "stream",
          "name": "stdout",
          "text": [
            "epoch 110 d_loss 0.06331238 g_loss 4.4442453\n"
          ]
        },
        {
          "output_type": "stream",
          "name": "stderr",
          "text": [
            "WARNING:tensorflow:Compiled the loaded model, but the compiled metrics have yet to be built. `model.compile_metrics` will be empty until you train or evaluate the model.\n"
          ]
        },
        {
          "output_type": "stream",
          "name": "stdout",
          "text": [
            "epoch 111 d_loss 0.06297797 g_loss 4.465933\n"
          ]
        },
        {
          "output_type": "stream",
          "name": "stderr",
          "text": [
            "WARNING:tensorflow:Compiled the loaded model, but the compiled metrics have yet to be built. `model.compile_metrics` will be empty until you train or evaluate the model.\n"
          ]
        },
        {
          "output_type": "stream",
          "name": "stdout",
          "text": [
            "epoch 112 d_loss 0.06272197 g_loss 4.4859467\n"
          ]
        },
        {
          "output_type": "stream",
          "name": "stderr",
          "text": [
            "WARNING:tensorflow:Compiled the loaded model, but the compiled metrics have yet to be built. `model.compile_metrics` will be empty until you train or evaluate the model.\n"
          ]
        },
        {
          "output_type": "stream",
          "name": "stdout",
          "text": [
            "epoch 113 d_loss 0.06254576 g_loss 4.5042067\n"
          ]
        },
        {
          "output_type": "stream",
          "name": "stderr",
          "text": [
            "WARNING:tensorflow:Compiled the loaded model, but the compiled metrics have yet to be built. `model.compile_metrics` will be empty until you train or evaluate the model.\n"
          ]
        },
        {
          "output_type": "stream",
          "name": "stdout",
          "text": [
            "epoch 114 d_loss 0.062451236 g_loss 4.5206337\n"
          ]
        },
        {
          "output_type": "stream",
          "name": "stderr",
          "text": [
            "WARNING:tensorflow:Compiled the loaded model, but the compiled metrics have yet to be built. `model.compile_metrics` will be empty until you train or evaluate the model.\n"
          ]
        },
        {
          "output_type": "stream",
          "name": "stdout",
          "text": [
            "epoch 115 d_loss 0.062440783 g_loss 4.5351505\n"
          ]
        },
        {
          "output_type": "stream",
          "name": "stderr",
          "text": [
            "WARNING:tensorflow:Compiled the loaded model, but the compiled metrics have yet to be built. `model.compile_metrics` will be empty until you train or evaluate the model.\n"
          ]
        },
        {
          "output_type": "stream",
          "name": "stdout",
          "text": [
            "epoch 116 d_loss 0.062517315 g_loss 4.547685\n"
          ]
        },
        {
          "output_type": "stream",
          "name": "stderr",
          "text": [
            "WARNING:tensorflow:Compiled the loaded model, but the compiled metrics have yet to be built. `model.compile_metrics` will be empty until you train or evaluate the model.\n"
          ]
        },
        {
          "output_type": "stream",
          "name": "stdout",
          "text": [
            "epoch 117 d_loss 0.06268432 g_loss 4.5581703\n"
          ]
        },
        {
          "output_type": "stream",
          "name": "stderr",
          "text": [
            "WARNING:tensorflow:Compiled the loaded model, but the compiled metrics have yet to be built. `model.compile_metrics` will be empty until you train or evaluate the model.\n"
          ]
        },
        {
          "output_type": "stream",
          "name": "stdout",
          "text": [
            "epoch 118 d_loss 0.062945925 g_loss 4.566546\n"
          ]
        },
        {
          "output_type": "stream",
          "name": "stderr",
          "text": [
            "WARNING:tensorflow:Compiled the loaded model, but the compiled metrics have yet to be built. `model.compile_metrics` will be empty until you train or evaluate the model.\n"
          ]
        },
        {
          "output_type": "stream",
          "name": "stdout",
          "text": [
            "epoch 119 d_loss 0.06330692 g_loss 4.5727572\n"
          ]
        },
        {
          "output_type": "stream",
          "name": "stderr",
          "text": [
            "WARNING:tensorflow:Compiled the loaded model, but the compiled metrics have yet to be built. `model.compile_metrics` will be empty until you train or evaluate the model.\n"
          ]
        },
        {
          "output_type": "stream",
          "name": "stdout",
          "text": [
            "epoch 120 d_loss 0.0637728 g_loss 4.5767584\n"
          ]
        },
        {
          "output_type": "stream",
          "name": "stderr",
          "text": [
            "WARNING:tensorflow:Compiled the loaded model, but the compiled metrics have yet to be built. `model.compile_metrics` will be empty until you train or evaluate the model.\n"
          ]
        },
        {
          "output_type": "stream",
          "name": "stdout",
          "text": [
            "epoch 121 d_loss 0.0643498 g_loss 4.5785117\n"
          ]
        },
        {
          "output_type": "stream",
          "name": "stderr",
          "text": [
            "WARNING:tensorflow:Compiled the loaded model, but the compiled metrics have yet to be built. `model.compile_metrics` will be empty until you train or evaluate the model.\n"
          ]
        },
        {
          "output_type": "stream",
          "name": "stdout",
          "text": [
            "epoch 122 d_loss 0.065045014 g_loss 4.5779905\n"
          ]
        },
        {
          "output_type": "stream",
          "name": "stderr",
          "text": [
            "WARNING:tensorflow:Compiled the loaded model, but the compiled metrics have yet to be built. `model.compile_metrics` will be empty until you train or evaluate the model.\n"
          ]
        },
        {
          "output_type": "stream",
          "name": "stdout",
          "text": [
            "epoch 123 d_loss 0.065866426 g_loss 4.575177\n"
          ]
        },
        {
          "output_type": "stream",
          "name": "stderr",
          "text": [
            "WARNING:tensorflow:Compiled the loaded model, but the compiled metrics have yet to be built. `model.compile_metrics` will be empty until you train or evaluate the model.\n"
          ]
        },
        {
          "output_type": "stream",
          "name": "stdout",
          "text": [
            "epoch 124 d_loss 0.06682295 g_loss 4.570071\n"
          ]
        },
        {
          "output_type": "stream",
          "name": "stderr",
          "text": [
            "WARNING:tensorflow:Compiled the loaded model, but the compiled metrics have yet to be built. `model.compile_metrics` will be empty until you train or evaluate the model.\n"
          ]
        },
        {
          "output_type": "stream",
          "name": "stdout",
          "text": [
            "epoch 125 d_loss 0.067924544 g_loss 4.5626884\n"
          ]
        },
        {
          "output_type": "stream",
          "name": "stderr",
          "text": [
            "WARNING:tensorflow:Compiled the loaded model, but the compiled metrics have yet to be built. `model.compile_metrics` will be empty until you train or evaluate the model.\n"
          ]
        },
        {
          "output_type": "stream",
          "name": "stdout",
          "text": [
            "epoch 126 d_loss 0.06918221 g_loss 4.5530624\n"
          ]
        },
        {
          "output_type": "stream",
          "name": "stderr",
          "text": [
            "WARNING:tensorflow:Compiled the loaded model, but the compiled metrics have yet to be built. `model.compile_metrics` will be empty until you train or evaluate the model.\n"
          ]
        },
        {
          "output_type": "stream",
          "name": "stdout",
          "text": [
            "epoch 127 d_loss 0.070608124 g_loss 4.541251\n"
          ]
        },
        {
          "output_type": "stream",
          "name": "stderr",
          "text": [
            "WARNING:tensorflow:Compiled the loaded model, but the compiled metrics have yet to be built. `model.compile_metrics` will be empty until you train or evaluate the model.\n"
          ]
        },
        {
          "output_type": "stream",
          "name": "stdout",
          "text": [
            "epoch 128 d_loss 0.07221562 g_loss 4.5273404\n"
          ]
        },
        {
          "output_type": "stream",
          "name": "stderr",
          "text": [
            "WARNING:tensorflow:Compiled the loaded model, but the compiled metrics have yet to be built. `model.compile_metrics` will be empty until you train or evaluate the model.\n"
          ]
        },
        {
          "output_type": "stream",
          "name": "stdout",
          "text": [
            "epoch 129 d_loss 0.07401928 g_loss 4.511442\n"
          ]
        },
        {
          "output_type": "stream",
          "name": "stderr",
          "text": [
            "WARNING:tensorflow:Compiled the loaded model, but the compiled metrics have yet to be built. `model.compile_metrics` will be empty until you train or evaluate the model.\n"
          ]
        },
        {
          "output_type": "stream",
          "name": "stdout",
          "text": [
            "epoch 130 d_loss 0.076034985 g_loss 4.4937\n"
          ]
        },
        {
          "output_type": "stream",
          "name": "stderr",
          "text": [
            "WARNING:tensorflow:Compiled the loaded model, but the compiled metrics have yet to be built. `model.compile_metrics` will be empty until you train or evaluate the model.\n"
          ]
        },
        {
          "output_type": "stream",
          "name": "stdout",
          "text": [
            "epoch 131 d_loss 0.07827981 g_loss 4.4742904\n"
          ]
        },
        {
          "output_type": "stream",
          "name": "stderr",
          "text": [
            "WARNING:tensorflow:Compiled the loaded model, but the compiled metrics have yet to be built. `model.compile_metrics` will be empty until you train or evaluate the model.\n"
          ]
        },
        {
          "output_type": "stream",
          "name": "stdout",
          "text": [
            "epoch 132 d_loss 0.08077207 g_loss 4.4534225\n"
          ]
        },
        {
          "output_type": "stream",
          "name": "stderr",
          "text": [
            "WARNING:tensorflow:Compiled the loaded model, but the compiled metrics have yet to be built. `model.compile_metrics` will be empty until you train or evaluate the model.\n"
          ]
        },
        {
          "output_type": "stream",
          "name": "stdout",
          "text": [
            "epoch 133 d_loss 0.083531216 g_loss 4.4313335\n"
          ]
        },
        {
          "output_type": "stream",
          "name": "stderr",
          "text": [
            "WARNING:tensorflow:Compiled the loaded model, but the compiled metrics have yet to be built. `model.compile_metrics` will be empty until you train or evaluate the model.\n"
          ]
        },
        {
          "output_type": "stream",
          "name": "stdout",
          "text": [
            "epoch 134 d_loss 0.08657767 g_loss 4.4082847\n"
          ]
        },
        {
          "output_type": "stream",
          "name": "stderr",
          "text": [
            "WARNING:tensorflow:Compiled the loaded model, but the compiled metrics have yet to be built. `model.compile_metrics` will be empty until you train or evaluate the model.\n"
          ]
        },
        {
          "output_type": "stream",
          "name": "stdout",
          "text": [
            "epoch 135 d_loss 0.08993267 g_loss 4.384551\n"
          ]
        },
        {
          "output_type": "stream",
          "name": "stderr",
          "text": [
            "WARNING:tensorflow:Compiled the loaded model, but the compiled metrics have yet to be built. `model.compile_metrics` will be empty until you train or evaluate the model.\n"
          ]
        },
        {
          "output_type": "stream",
          "name": "stdout",
          "text": [
            "epoch 136 d_loss 0.09361797 g_loss 4.3604107\n"
          ]
        },
        {
          "output_type": "stream",
          "name": "stderr",
          "text": [
            "WARNING:tensorflow:Compiled the loaded model, but the compiled metrics have yet to be built. `model.compile_metrics` will be empty until you train or evaluate the model.\n"
          ]
        },
        {
          "output_type": "stream",
          "name": "stdout",
          "text": [
            "epoch 137 d_loss 0.097655565 g_loss 4.3361235\n"
          ]
        },
        {
          "output_type": "stream",
          "name": "stderr",
          "text": [
            "WARNING:tensorflow:Compiled the loaded model, but the compiled metrics have yet to be built. `model.compile_metrics` will be empty until you train or evaluate the model.\n"
          ]
        },
        {
          "output_type": "stream",
          "name": "stdout",
          "text": [
            "epoch 138 d_loss 0.10206741 g_loss 4.311914\n"
          ]
        },
        {
          "output_type": "stream",
          "name": "stderr",
          "text": [
            "WARNING:tensorflow:Compiled the loaded model, but the compiled metrics have yet to be built. `model.compile_metrics` will be empty until you train or evaluate the model.\n"
          ]
        },
        {
          "output_type": "stream",
          "name": "stdout",
          "text": [
            "epoch 139 d_loss 0.10687496 g_loss 4.2879534\n"
          ]
        },
        {
          "output_type": "stream",
          "name": "stderr",
          "text": [
            "WARNING:tensorflow:Compiled the loaded model, but the compiled metrics have yet to be built. `model.compile_metrics` will be empty until you train or evaluate the model.\n"
          ]
        },
        {
          "output_type": "stream",
          "name": "stdout",
          "text": [
            "epoch 140 d_loss 0.11209896 g_loss 4.264337\n"
          ]
        },
        {
          "output_type": "stream",
          "name": "stderr",
          "text": [
            "WARNING:tensorflow:Compiled the loaded model, but the compiled metrics have yet to be built. `model.compile_metrics` will be empty until you train or evaluate the model.\n"
          ]
        },
        {
          "output_type": "stream",
          "name": "stdout",
          "text": [
            "epoch 141 d_loss 0.11775901 g_loss 4.2410808\n"
          ]
        },
        {
          "output_type": "stream",
          "name": "stderr",
          "text": [
            "WARNING:tensorflow:Compiled the loaded model, but the compiled metrics have yet to be built. `model.compile_metrics` will be empty until you train or evaluate the model.\n"
          ]
        },
        {
          "output_type": "stream",
          "name": "stdout",
          "text": [
            "epoch 142 d_loss 0.123873435 g_loss 4.218108\n"
          ]
        },
        {
          "output_type": "stream",
          "name": "stderr",
          "text": [
            "WARNING:tensorflow:Compiled the loaded model, but the compiled metrics have yet to be built. `model.compile_metrics` will be empty until you train or evaluate the model.\n"
          ]
        },
        {
          "output_type": "stream",
          "name": "stdout",
          "text": [
            "epoch 143 d_loss 0.1304593 g_loss 4.195267\n"
          ]
        },
        {
          "output_type": "stream",
          "name": "stderr",
          "text": [
            "WARNING:tensorflow:Compiled the loaded model, but the compiled metrics have yet to be built. `model.compile_metrics` will be empty until you train or evaluate the model.\n"
          ]
        },
        {
          "output_type": "stream",
          "name": "stdout",
          "text": [
            "epoch 144 d_loss 0.13753238 g_loss 4.1723514\n"
          ]
        },
        {
          "output_type": "stream",
          "name": "stderr",
          "text": [
            "WARNING:tensorflow:Compiled the loaded model, but the compiled metrics have yet to be built. `model.compile_metrics` will be empty until you train or evaluate the model.\n"
          ]
        },
        {
          "output_type": "stream",
          "name": "stdout",
          "text": [
            "epoch 145 d_loss 0.14510748 g_loss 4.1491413\n"
          ]
        },
        {
          "output_type": "stream",
          "name": "stderr",
          "text": [
            "WARNING:tensorflow:Compiled the loaded model, but the compiled metrics have yet to be built. `model.compile_metrics` will be empty until you train or evaluate the model.\n"
          ]
        },
        {
          "output_type": "stream",
          "name": "stdout",
          "text": [
            "epoch 146 d_loss 0.15319845 g_loss 4.1254416\n"
          ]
        },
        {
          "output_type": "stream",
          "name": "stderr",
          "text": [
            "WARNING:tensorflow:Compiled the loaded model, but the compiled metrics have yet to be built. `model.compile_metrics` will be empty until you train or evaluate the model.\n"
          ]
        },
        {
          "output_type": "stream",
          "name": "stdout",
          "text": [
            "epoch 147 d_loss 0.16181889 g_loss 4.1011057\n"
          ]
        },
        {
          "output_type": "stream",
          "name": "stderr",
          "text": [
            "WARNING:tensorflow:Compiled the loaded model, but the compiled metrics have yet to be built. `model.compile_metrics` will be empty until you train or evaluate the model.\n"
          ]
        },
        {
          "output_type": "stream",
          "name": "stdout",
          "text": [
            "epoch 148 d_loss 0.17098248 g_loss 4.0760508\n"
          ]
        },
        {
          "output_type": "stream",
          "name": "stderr",
          "text": [
            "WARNING:tensorflow:Compiled the loaded model, but the compiled metrics have yet to be built. `model.compile_metrics` will be empty until you train or evaluate the model.\n"
          ]
        },
        {
          "output_type": "stream",
          "name": "stdout",
          "text": [
            "epoch 149 d_loss 0.18070367 g_loss 4.050235\n"
          ]
        },
        {
          "output_type": "stream",
          "name": "stderr",
          "text": [
            "WARNING:tensorflow:Compiled the loaded model, but the compiled metrics have yet to be built. `model.compile_metrics` will be empty until you train or evaluate the model.\n"
          ]
        },
        {
          "output_type": "stream",
          "name": "stdout",
          "text": [
            "epoch 150 d_loss 0.19099864 g_loss 4.023629\n"
          ]
        },
        {
          "output_type": "stream",
          "name": "stderr",
          "text": [
            "WARNING:tensorflow:Compiled the loaded model, but the compiled metrics have yet to be built. `model.compile_metrics` will be empty until you train or evaluate the model.\n"
          ]
        },
        {
          "output_type": "stream",
          "name": "stdout",
          "text": [
            "epoch 151 d_loss 0.20188615 g_loss 3.9961631\n"
          ]
        },
        {
          "output_type": "stream",
          "name": "stderr",
          "text": [
            "WARNING:tensorflow:Compiled the loaded model, but the compiled metrics have yet to be built. `model.compile_metrics` will be empty until you train or evaluate the model.\n"
          ]
        },
        {
          "output_type": "stream",
          "name": "stdout",
          "text": [
            "epoch 152 d_loss 0.21338823 g_loss 3.9676793\n"
          ]
        },
        {
          "output_type": "stream",
          "name": "stderr",
          "text": [
            "WARNING:tensorflow:Compiled the loaded model, but the compiled metrics have yet to be built. `model.compile_metrics` will be empty until you train or evaluate the model.\n"
          ]
        },
        {
          "output_type": "stream",
          "name": "stdout",
          "text": [
            "epoch 153 d_loss 0.22553128 g_loss 3.9379096\n"
          ]
        },
        {
          "output_type": "stream",
          "name": "stderr",
          "text": [
            "WARNING:tensorflow:Compiled the loaded model, but the compiled metrics have yet to be built. `model.compile_metrics` will be empty until you train or evaluate the model.\n"
          ]
        },
        {
          "output_type": "stream",
          "name": "stdout",
          "text": [
            "epoch 154 d_loss 0.23834668 g_loss 3.906491\n"
          ]
        },
        {
          "output_type": "stream",
          "name": "stderr",
          "text": [
            "WARNING:tensorflow:Compiled the loaded model, but the compiled metrics have yet to be built. `model.compile_metrics` will be empty until you train or evaluate the model.\n"
          ]
        },
        {
          "output_type": "stream",
          "name": "stdout",
          "text": [
            "epoch 155 d_loss 0.25187093 g_loss 3.8730228\n"
          ]
        },
        {
          "output_type": "stream",
          "name": "stderr",
          "text": [
            "WARNING:tensorflow:Compiled the loaded model, but the compiled metrics have yet to be built. `model.compile_metrics` will be empty until you train or evaluate the model.\n"
          ]
        },
        {
          "output_type": "stream",
          "name": "stdout",
          "text": [
            "epoch 156 d_loss 0.2661458 g_loss 3.837149\n"
          ]
        },
        {
          "output_type": "stream",
          "name": "stderr",
          "text": [
            "WARNING:tensorflow:Compiled the loaded model, but the compiled metrics have yet to be built. `model.compile_metrics` will be empty until you train or evaluate the model.\n"
          ]
        },
        {
          "output_type": "stream",
          "name": "stdout",
          "text": [
            "epoch 157 d_loss 0.28121796 g_loss 3.7986448\n"
          ]
        },
        {
          "output_type": "stream",
          "name": "stderr",
          "text": [
            "WARNING:tensorflow:Compiled the loaded model, but the compiled metrics have yet to be built. `model.compile_metrics` will be empty until you train or evaluate the model.\n"
          ]
        },
        {
          "output_type": "stream",
          "name": "stdout",
          "text": [
            "epoch 158 d_loss 0.29713854 g_loss 3.7574642\n"
          ]
        },
        {
          "output_type": "stream",
          "name": "stderr",
          "text": [
            "WARNING:tensorflow:Compiled the loaded model, but the compiled metrics have yet to be built. `model.compile_metrics` will be empty until you train or evaluate the model.\n"
          ]
        },
        {
          "output_type": "stream",
          "name": "stdout",
          "text": [
            "epoch 159 d_loss 0.31396222 g_loss 3.7137134\n"
          ]
        },
        {
          "output_type": "stream",
          "name": "stderr",
          "text": [
            "WARNING:tensorflow:Compiled the loaded model, but the compiled metrics have yet to be built. `model.compile_metrics` will be empty until you train or evaluate the model.\n"
          ]
        },
        {
          "output_type": "stream",
          "name": "stdout",
          "text": [
            "epoch 160 d_loss 0.3317464 g_loss 3.6675644\n"
          ]
        },
        {
          "output_type": "display_data",
          "data": {
            "text/plain": [
              "<Figure size 640x480 with 1 Axes>"
            ],
            "image/png": "[encoded data removed]"
          },
          "metadata": {}
        }
      ],
      "source": [
        "#Orchestrates the entire training and evaluation process of the GAN model\n",
        "\n",
        "if __name__ == '__main__':\n",
        "    input_dim = yc_train.shape[1]\n",
        "    feature_size = yc_train.shape[2]\n",
        "    output_dim = y_train.shape[1]\n",
        "\n",
        "    ## For Bayesian\n",
        "    opt = {\"lr\": 0.00007,\n",
        "    \"bs\": 128,\n",
        "    \"epoch\": 160}\n",
        "\n",
        "    generator = make_generator_model(yc_train.shape[1], output_dim, yc_train.shape[2])\n",
        "    discriminator = make_discriminator_model()\n",
        "    gan = GAN(generator, discriminator, opt, seed=42)\n",
        "    Predicted_price, Real_price, MAPE = gan.train(y_train, yc_train, opt)"
      ]
    },
    {
      "cell_type": "code",
      "source": [
        "#Save the predicted indices to files\n",
        "np.save(\"train_predict_index.npy\", index_train)\n",
        "np.save(\"test_predict_index.npy\", index_test)"
      ],
      "metadata": {
        "id": "LfNzdfDbls_F"
      },
      "execution_count": null,
      "outputs": []
    },
    {
      "cell_type": "code",
      "source": [
        "#Print predicted price\n",
        "print(\"----- predicted price -----\", Predicted_price)"
      ],
      "metadata": {
        "id": "6qeBfZjReLMt"
      },
      "execution_count": null,
      "outputs": []
    },
    {
      "cell_type": "code",
      "execution_count": null,
      "metadata": {
        "colab": {
          "base_uri": "https://localhost:8080/"
        },
        "id": "iM6bDduv-51q",
        "outputId": "33a296eb-f743-4f5e-a9cf-a416861b2774"
      },
      "outputs": [
        {
          "output_type": "stream",
          "name": "stdout",
          "text": [
            "----- rescaled predicted price ----- [[768.7344 ]\n",
            " [768.23334]\n",
            " [768.1721 ]\n",
            " [769.36633]\n",
            " [769.7029 ]\n",
            " [769.1792 ]\n",
            " [770.2425 ]\n",
            " [770.4483 ]\n",
            " [770.74255]\n",
            " [771.25134]\n",
            " [771.1085 ]\n",
            " [771.2837 ]\n",
            " [770.5249 ]\n",
            " [770.5846 ]\n",
            " [770.82043]\n",
            " [770.2282 ]\n",
            " [769.9022 ]\n",
            " [770.621  ]\n",
            " [771.9694 ]\n",
            " [772.2016 ]\n",
            " [770.66626]\n",
            " [771.68134]\n",
            " [771.4564 ]\n",
            " [771.0057 ]\n",
            " [770.3732 ]\n",
            " [769.2922 ]\n",
            " [768.8644 ]\n",
            " [768.54724]\n",
            " [768.00226]\n",
            " [770.1087 ]\n",
            " [769.7601 ]\n",
            " [770.24524]\n",
            " [770.7009 ]\n",
            " [769.8977 ]\n",
            " [770.3089 ]\n",
            " [770.74347]\n",
            " [770.4643 ]\n",
            " [769.0419 ]\n",
            " [770.1411 ]\n",
            " [770.1115 ]\n",
            " [769.1975 ]\n",
            " [769.33704]\n",
            " [768.00323]\n",
            " [768.0448 ]\n",
            " [767.9124 ]\n",
            " [768.10614]\n",
            " [768.8644 ]\n",
            " [769.838  ]\n",
            " [770.74786]\n",
            " [770.24615]\n",
            " [770.3402 ]\n",
            " [770.71686]\n",
            " [770.83276]\n",
            " [768.85046]\n",
            " [770.0881 ]\n",
            " [769.4377 ]\n",
            " [770.21655]\n",
            " [770.2183 ]\n",
            " [769.96185]\n",
            " [770.2793 ]\n",
            " [770.83545]\n",
            " [770.4188 ]\n",
            " [769.8815 ]\n",
            " [770.6938 ]\n",
            " [770.6734 ]\n",
            " [769.2141 ]\n",
            " [769.26   ]\n",
            " [769.69836]\n",
            " [770.65656]\n",
            " [771.2014 ]\n",
            " [769.63293]\n",
            " [770.5285 ]\n",
            " [770.31604]\n",
            " [768.93933]\n",
            " [769.4615 ]\n",
            " [769.7165 ]\n",
            " [770.24524]\n",
            " [769.12024]\n",
            " [768.2258 ]\n",
            " [767.11774]\n",
            " [767.9256 ]\n",
            " [767.4255 ]\n",
            " [765.7493 ]\n",
            " [765.8727 ]\n",
            " [764.6528 ]\n",
            " [763.60834]\n",
            " [761.6398 ]\n",
            " [759.7679 ]\n",
            " [758.00616]\n",
            " [759.96686]\n",
            " [760.85443]\n",
            " [760.4764 ]\n",
            " [762.894  ]\n",
            " [763.4619 ]\n",
            " [764.47797]\n",
            " [762.9892 ]\n",
            " [764.4964 ]\n",
            " [766.84375]\n",
            " [768.66187]\n",
            " [768.69165]\n",
            " [768.1165 ]\n",
            " [767.94745]\n",
            " [767.6272 ]\n",
            " [766.5915 ]\n",
            " [767.97675]\n",
            " [769.53546]\n",
            " [769.31323]\n",
            " [768.9468 ]\n",
            " [768.2916 ]\n",
            " [768.84125]\n",
            " [768.5808 ]\n",
            " [769.5263 ]\n",
            " [769.761  ]\n",
            " [770.3822 ]\n",
            " [770.59076]\n",
            " [770.32495]\n",
            " [770.34283]\n",
            " [770.1914 ]\n",
            " [769.64386]\n",
            " [770.367  ]\n",
            " [770.76733]\n",
            " [770.8593 ]\n",
            " [770.0674 ]\n",
            " [771.02765]\n",
            " [770.7974 ]\n",
            " [770.6592 ]\n",
            " [770.77625]\n",
            " [771.4913 ]\n",
            " [771.21985]\n",
            " [770.93695]\n",
            " [770.49194]\n",
            " [770.6938 ]\n",
            " [769.33704]\n",
            " [769.15704]\n",
            " [770.3304 ]\n",
            " [770.5223 ]\n",
            " [770.01324]\n",
            " [769.25635]\n",
            " [766.1459 ]\n",
            " [764.64056]\n",
            " [766.203  ]\n",
            " [767.5642 ]\n",
            " [767.6281 ]\n",
            " [767.0936 ]\n",
            " [766.204  ]\n",
            " [767.2353 ]\n",
            " [766.8855 ]\n",
            " [766.5915 ]\n",
            " [766.965  ]\n",
            " [766.8263 ]\n",
            " [765.7295 ]\n",
            " [765.812  ]\n",
            " [766.09644]\n",
            " [765.36334]\n",
            " [766.5299 ]\n",
            " [766.5758 ]\n",
            " [766.75336]\n",
            " [768.0769 ]\n",
            " [767.18915]\n",
            " [766.2896 ]\n",
            " [766.2473 ]\n",
            " [767.16504]\n",
            " [767.41296]\n",
            " [767.5269 ]\n",
            " [767.80237]\n",
            " [768.7131 ]\n",
            " [767.77954]\n",
            " [767.7443 ]\n",
            " [766.8797 ]\n",
            " [767.138  ]\n",
            " [767.7053 ]\n",
            " [766.836  ]\n",
            " [766.63837]\n",
            " [766.2473 ]\n",
            " [764.7201 ]\n",
            " [764.67926]\n",
            " [766.4771 ]\n",
            " [765.819  ]\n",
            " [765.3895 ]\n",
            " [764.5793 ]\n",
            " [762.6579 ]\n",
            " [761.9805 ]\n",
            " [762.7537 ]\n",
            " [761.50336]\n",
            " [762.2565 ]\n",
            " [761.9069 ]\n",
            " [761.76263]\n",
            " [763.3277 ]\n",
            " [763.9961 ]\n",
            " [764.53735]\n",
            " [764.83   ]\n",
            " [765.35034]\n",
            " [766.03217]\n",
            " [766.13983]\n",
            " [766.8466 ]\n",
            " [767.732  ]\n",
            " [769.53357]\n",
            " [767.65485]\n",
            " [767.87067]\n",
            " [768.27374]\n",
            " [768.3826 ]\n",
            " [767.0337 ]\n",
            " [766.57196]\n",
            " [766.1872 ]\n",
            " [768.4528 ]\n",
            " [767.3392 ]\n",
            " [766.4026 ]\n",
            " [766.728  ]\n",
            " [766.4134 ]\n",
            " [766.9737 ]\n",
            " [766.0599 ]\n",
            " [765.0298 ]\n",
            " [766.1083 ]\n",
            " [765.99457]\n",
            " [767.13605]\n",
            " [767.3698 ]\n",
            " [766.5944 ]\n",
            " [766.3142 ]\n",
            " [765.35034]\n",
            " [764.4431 ]\n",
            " [764.6854 ]\n",
            " [763.10974]\n",
            " [764.2377 ]\n",
            " [766.3927 ]\n",
            " [766.34467]\n",
            " [765.98566]\n",
            " [767.1804 ]\n",
            " [767.77   ]\n",
            " [767.83844]\n",
            " [767.7311 ]\n",
            " [767.54126]\n",
            " [766.7805 ]\n",
            " [768.25494]\n",
            " [768.5687 ]\n",
            " [769.2288 ]\n",
            " [770.2237 ]\n",
            " [769.35443]\n",
            " [770.1546 ]\n",
            " [770.45   ]\n",
            " [770.4447 ]\n",
            " [770.5481 ]\n",
            " [769.80725]\n",
            " [769.54816]\n",
            " [770.4385 ]\n",
            " [769.42126]\n",
            " [769.8226 ]\n",
            " [768.9819 ]\n",
            " [770.0214 ]\n",
            " [770.1267 ]\n",
            " [770.77625]\n",
            " [771.39374]\n",
            " [770.7567 ]\n",
            " [770.82214]\n",
            " [771.1585 ]\n",
            " [770.48486]\n",
            " [770.54456]\n",
            " [770.38043]\n",
            " [770.7142 ]\n",
            " [770.79474]\n",
            " [768.82825]\n",
            " [768.53784]\n",
            " [768.5051 ]\n",
            " [767.26135]\n",
            " [764.766  ]\n",
            " [763.8696 ]\n",
            " [765.056  ]\n",
            " [766.2256 ]\n",
            " [766.14185]\n",
            " [766.2689 ]\n",
            " [765.40857]\n",
            " [765.31213]\n",
            " [764.664  ]\n",
            " [763.96814]\n",
            " [763.94116]\n",
            " [763.964  ]\n",
            " [764.18207]\n",
            " [765.01056]\n",
            " [765.4286 ]\n",
            " [764.29425]\n",
            " [762.6334 ]\n",
            " [762.65155]\n",
            " [760.5789 ]\n",
            " [757.128  ]\n",
            " [755.5204 ]\n",
            " [752.9636 ]\n",
            " [757.0298 ]\n",
            " [760.56226]\n",
            " [760.2458 ]\n",
            " [756.438  ]\n",
            " [746.69604]\n",
            " [749.3584 ]\n",
            " [747.56635]\n",
            " [739.8812 ]\n",
            " [741.1181 ]\n",
            " [733.3794 ]\n",
            " [723.989  ]\n",
            " [717.9254 ]\n",
            " [707.5313 ]\n",
            " [710.6783 ]\n",
            " [699.98615]\n",
            " [695.3771 ]\n",
            " [716.9707 ]\n",
            " [727.0671 ]\n",
            " [721.25964]\n",
            " [725.52606]\n",
            " [722.8661 ]\n",
            " [724.90857]\n",
            " [727.7888 ]\n",
            " [734.2418 ]\n",
            " [732.97675]\n",
            " [726.85754]\n",
            " [727.3218 ]\n",
            " [726.00305]\n",
            " [729.70325]\n",
            " [726.1969 ]\n",
            " [719.49774]\n",
            " [726.4045 ]\n",
            " [723.81836]\n",
            " [720.5796 ]\n",
            " [723.7266 ]\n",
            " [724.2091 ]\n",
            " [719.72015]\n",
            " [721.04156]\n",
            " [721.3458 ]\n",
            " [723.3207 ]\n",
            " [729.9675 ]\n",
            " [725.15875]\n",
            " [725.4915 ]\n",
            " [724.7709 ]\n",
            " [724.52155]\n",
            " [726.3682 ]\n",
            " [723.5741 ]\n",
            " [722.0532 ]\n",
            " [719.23926]\n",
            " [718.2553 ]\n",
            " [719.00665]\n",
            " [721.3243 ]\n",
            " [721.55444]\n",
            " [725.15875]\n",
            " [726.0779 ]\n",
            " [729.14453]\n",
            " [732.2583 ]\n",
            " [736.4942 ]\n",
            " [740.0481 ]\n",
            " [739.0518 ]\n",
            " [740.0497 ]\n",
            " [743.94073]\n",
            " [741.9735 ]\n",
            " [738.1048 ]\n",
            " [735.76154]\n",
            " [736.94073]\n",
            " [734.8004 ]\n",
            " [740.9188 ]\n",
            " [740.82697]\n",
            " [738.6136 ]\n",
            " [739.5199 ]\n",
            " [738.4847 ]\n",
            " [737.3175 ]\n",
            " [740.2519 ]\n",
            " [738.28827]\n",
            " [738.33203]\n",
            " [738.2177 ]\n",
            " [737.6394 ]\n",
            " [738.1773 ]\n",
            " [739.91077]\n",
            " [740.09705]\n",
            " [740.80115]\n",
            " [740.8979 ]\n",
            " [744.13916]\n",
            " [743.0531 ]\n",
            " [742.27637]\n",
            " [743.4123 ]\n",
            " [743.94684]\n",
            " [743.7355 ]\n",
            " [744.3309 ]\n",
            " [743.5618 ]\n",
            " [742.4759 ]\n",
            " [744.72894]\n",
            " [744.6142 ]\n",
            " [745.6372 ]\n",
            " [743.3026 ]\n",
            " [744.7108 ]\n",
            " [744.60815]\n",
            " [743.9545 ]\n",
            " [745.10925]\n",
            " [740.65106]\n",
            " [743.1106 ]\n",
            " [744.91113]\n",
            " [746.3805 ]\n",
            " [745.5838 ]\n",
            " [745.68915]\n",
            " [746.48444]\n",
            " [748.3425 ]\n",
            " [748.42456]\n",
            " [748.6247 ]\n",
            " [750.2602 ]\n",
            " [749.6865 ]\n",
            " [749.8656 ]\n",
            " [751.8702 ]\n",
            " [751.67505]\n",
            " [752.09094]\n",
            " [751.4392 ]\n",
            " [748.19666]\n",
            " [750.5639 ]\n",
            " [750.8239 ]\n",
            " [749.6727 ]\n",
            " [748.3991 ]\n",
            " [748.16833]\n",
            " [748.4626 ]\n",
            " [745.30975]\n",
            " [737.62415]\n",
            " [741.2863 ]\n",
            " [745.42456]\n",
            " [743.2423 ]\n",
            " [741.77234]\n",
            " [740.83984]\n",
            " [741.60547]\n",
            " [739.6071 ]\n",
            " [737.6699 ]\n",
            " [737.2953 ]\n",
            " [734.8253 ]\n",
            " [738.3354 ]\n",
            " [736.57715]\n",
            " [735.2466 ]\n",
            " [734.3171 ]\n",
            " [738.4579 ]\n",
            " [736.7256 ]\n",
            " [737.45056]\n",
            " [738.97705]\n",
            " [738.9654 ]\n",
            " [740.0138 ]\n",
            " [740.2291 ]\n",
            " [741.1229 ]\n",
            " [742.11725]\n",
            " [744.09186]\n",
            " [742.0115 ]\n",
            " [742.10144]\n",
            " [743.19586]\n",
            " [742.5714 ]\n",
            " [742.6903 ]\n",
            " [742.9024 ]\n",
            " [743.0982 ]\n",
            " [743.7753 ]\n",
            " [743.2036 ]\n",
            " [742.90857]\n",
            " [743.86115]\n",
            " [741.7342 ]\n",
            " [747.0461 ]\n",
            " [749.69476]\n",
            " [750.4633 ]\n",
            " [753.5622 ]\n",
            " [755.5808 ]\n",
            " [753.9086 ]\n",
            " [753.97485]\n",
            " [754.7629 ]\n",
            " [755.8011 ]\n",
            " [756.2704 ]\n",
            " [756.449  ]\n",
            " [756.1791 ]\n",
            " [758.18085]\n",
            " [758.9036 ]\n",
            " [758.3911 ]\n",
            " [760.3691 ]\n",
            " [760.29407]\n",
            " [755.95435]\n",
            " [758.55054]\n",
            " [760.5455 ]\n",
            " [760.4139 ]\n",
            " [759.8595 ]\n",
            " [762.07666]\n",
            " [761.74744]\n",
            " [761.64417]\n",
            " [761.38306]\n",
            " [762.59827]\n",
            " [763.18677]\n",
            " [765.5808 ]\n",
            " [765.44366]\n",
            " [764.8046 ]\n",
            " [765.6736 ]\n",
            " [762.36285]\n",
            " [762.1274 ]\n",
            " [764.1428 ]\n",
            " [763.06647]\n",
            " [761.9221 ]\n",
            " [764.4257 ]\n",
            " [764.7058 ]\n",
            " [763.076  ]\n",
            " [764.28815]\n",
            " [766.49567]\n",
            " [768.57056]\n",
            " [768.14105]\n",
            " [768.7446 ]\n",
            " [768.6972 ]\n",
            " [767.41016]\n",
            " [768.31226]\n",
            " [767.4389 ]\n",
            " [769.8416 ]\n",
            " [769.5108 ]\n",
            " [767.68054]\n",
            " [767.33344]\n",
            " [765.26184]\n",
            " [764.8838 ]\n",
            " [762.5277 ]\n",
            " [759.3742 ]\n",
            " [763.2467 ]\n",
            " [762.3339 ]\n",
            " [762.5641 ]\n",
            " [763.45667]\n",
            " [763.90283]\n",
            " [764.3138 ]\n",
            " [763.5645 ]\n",
            " [763.84576]\n",
            " [763.90076]\n",
            " [764.4944 ]\n",
            " [764.5527 ]\n",
            " [763.18036]\n",
            " [762.54486]\n",
            " [763.723  ]\n",
            " [763.6594 ]\n",
            " [764.4831 ]\n",
            " [763.6052 ]\n",
            " [763.79486]\n",
            " [762.97766]\n",
            " [765.3463 ]\n",
            " [765.3402 ]\n",
            " [765.3965 ]\n",
            " [763.3697 ]\n",
            " [762.61743]\n",
            " [762.49677]\n",
            " [761.15356]\n",
            " [762.3865 ]\n",
            " [763.61676]\n",
            " [762.8015 ]\n",
            " [762.8037 ]\n",
            " [762.4325 ]\n",
            " [764.23975]\n",
            " [764.33234]\n",
            " [762.92786]\n",
            " [762.5277 ]\n",
            " [760.9452 ]\n",
            " [760.8023 ]\n",
            " [762.34674]\n",
            " [761.77466]\n",
            " [759.9307 ]\n",
            " [758.313  ]\n",
            " [758.2042 ]\n",
            " [757.4758 ]\n",
            " [757.9885 ]\n",
            " [758.4692 ]\n",
            " [758.75696]\n",
            " [758.74304]\n",
            " [755.9237 ]\n",
            " [755.78516]\n",
            " [758.5564 ]\n",
            " [758.96704]\n",
            " [758.8794 ]\n",
            " [758.355  ]\n",
            " [758.28613]\n",
            " [757.1315 ]\n",
            " [757.27124]\n",
            " [758.3071 ]\n",
            " [757.05853]\n",
            " [756.959  ]\n",
            " [756.905  ]\n",
            " [757.72815]\n",
            " [757.24255]\n",
            " [756.1108 ]\n",
            " [756.6666 ]\n",
            " [756.84735]\n",
            " [756.6702 ]\n",
            " [755.6671 ]\n",
            " [756.61597]\n",
            " [755.9384 ]\n",
            " [754.26544]\n",
            " [754.1261 ]\n",
            " [752.36725]\n",
            " [753.3772 ]\n",
            " [752.83374]\n",
            " [752.87006]\n",
            " [753.68524]\n",
            " [753.534  ]\n",
            " [753.9074 ]\n",
            " [756.63403]\n",
            " [758.48193]\n",
            " [760.1818 ]\n",
            " [759.0889 ]\n",
            " [758.74304]\n",
            " [757.376  ]\n",
            " [757.858  ]\n",
            " [758.619  ]\n",
            " [758.1786 ]\n",
            " [757.50073]\n",
            " [757.4188 ]\n",
            " [756.2047 ]\n",
            " [755.2716 ]\n",
            " [753.4582 ]\n",
            " [752.9129 ]\n",
            " [754.1362 ]\n",
            " [752.9999 ]\n",
            " [752.3594 ]\n",
            " [752.2477 ]\n",
            " [749.7775 ]\n",
            " [750.2575 ]\n",
            " [751.0504 ]\n",
            " [751.3549 ]\n",
            " [751.9403 ]\n",
            " [750.7874 ]\n",
            " [751.33356]\n",
            " [750.6466 ]\n",
            " [750.383  ]\n",
            " [750.4402 ]\n",
            " [750.98987]\n",
            " [749.8092 ]\n",
            " [748.70624]\n",
            " [750.55707]\n",
            " [751.35895]\n",
            " [750.1112 ]\n",
            " [750.587  ]\n",
            " [752.66565]\n",
            " [751.166  ]\n",
            " [750.64124]\n",
            " [750.0961 ]\n",
            " [749.1122 ]\n",
            " [749.3973 ]\n",
            " [748.0334 ]\n",
            " [749.03546]\n",
            " [750.1947 ]\n",
            " [750.86304]\n",
            " [752.1371 ]\n",
            " [750.9548 ]\n",
            " [749.2584 ]\n",
            " [749.339  ]\n",
            " [751.1834 ]\n",
            " [751.92316]\n",
            " [752.11597]\n",
            " [754.3198 ]\n",
            " [751.83704]\n",
            " [752.404  ]\n",
            " [753.54425]\n",
            " [752.52576]\n",
            " [752.81287]\n",
            " [751.7667 ]\n",
            " [751.166  ]\n",
            " [753.94305]\n",
            " [753.8844 ]\n",
            " [753.1165 ]\n",
            " [753.4196 ]\n",
            " [754.823  ]\n",
            " [754.9005 ]\n",
            " [754.5041 ]\n",
            " [752.60815]\n",
            " [754.56195]\n",
            " [754.3553 ]\n",
            " [753.7632 ]\n",
            " [754.3679 ]\n",
            " [753.83856]\n",
            " [753.39905]\n",
            " [753.3656 ]\n",
            " [752.37646]\n",
            " [751.9681 ]\n",
            " [753.3321 ]\n",
            " [753.7594 ]\n",
            " [753.8539 ]\n",
            " [753.21985]\n",
            " [753.035  ]\n",
            " [754.37286]\n",
            " [757.35693]\n",
            " [756.3142 ]\n",
            " [759.2633 ]\n",
            " [758.24054]\n",
            " [761.17773]\n",
            " [760.7558 ]\n",
            " [762.4593 ]\n",
            " [762.6377 ]\n",
            " [763.1741 ]\n",
            " [764.6161 ]\n",
            " [765.8399 ]\n",
            " [765.79517]\n",
            " [766.2129 ]\n",
            " [766.0876 ]\n",
            " [765.3905 ]\n",
            " [765.6537 ]\n",
            " [764.69867]\n",
            " [765.07623]\n",
            " [764.2377 ]\n",
            " [762.77185]\n",
            " [763.80005]\n",
            " [762.9501 ]\n",
            " [761.7768 ]\n",
            " [763.01776]\n",
            " [763.3382 ]\n",
            " [763.31714]\n",
            " [763.58954]\n",
            " [763.80426]\n",
            " [764.4    ]\n",
            " [764.3313 ]\n",
            " [763.68036]\n",
            " [762.707  ]\n",
            " [763.33185]\n",
            " [763.88416]\n",
            " [763.1034 ]\n",
            " [764.9345 ]\n",
            " [764.9345 ]\n",
            " [764.39905]\n",
            " [764.44525]\n",
            " [765.08636]\n",
            " [762.59076]\n",
            " [761.4957 ]\n",
            " [761.55804]\n",
            " [763.4766 ]\n",
            " [762.35754]\n",
            " [762.3564 ]\n",
            " [763.5478 ]\n",
            " [763.06647]\n",
            " [763.7917 ]\n",
            " [763.3844 ]\n",
            " [762.86743]\n",
            " [762.5085 ]\n",
            " [762.949  ]\n",
            " [762.16187]\n",
            " [762.40894]\n",
            " [761.62665]\n",
            " [761.9297 ]\n",
            " [761.05225]\n",
            " [761.65607]\n",
            " [761.4946 ]\n",
            " [761.77026]\n",
            " [762.1586 ]\n",
            " [762.06586]\n",
            " [761.5438 ]\n",
            " [762.826  ]\n",
            " [763.30774]\n",
            " [762.39716]\n",
            " [762.52563]\n",
            " [763.51526]\n",
            " [762.91724]\n",
            " [762.50635]\n",
            " [762.89075]\n",
            " [763.5916 ]\n",
            " [763.83746]\n",
            " [763.3224 ]\n",
            " [762.98505]\n",
            " [762.3231 ]\n",
            " [762.8281 ]\n",
            " [764.53937]\n",
            " [763.4766 ]\n",
            " [762.4015 ]\n",
            " [763.20044]\n",
            " [763.2173 ]\n",
            " [763.50586]\n",
            " [762.4325 ]\n",
            " [763.3088 ]\n",
            " [763.1034 ]\n",
            " [763.7043 ]\n",
            " [765.0328 ]\n",
            " [764.7689 ]\n",
            " [765.7464 ]\n",
            " [765.9371 ]\n",
            " [765.7424 ]\n",
            " [764.833  ]\n",
            " [766.1034 ]\n",
            " [766.2207 ]\n",
            " [765.91327]\n",
            " [766.55927]\n",
            " [766.5416 ]\n",
            " [765.94604]\n",
            " [767.0569 ]\n",
            " [765.9381 ]\n",
            " [767.1013 ]\n",
            " [767.30457]\n",
            " [766.38293]\n",
            " [767.9152 ]\n",
            " [767.4255 ]\n",
            " [767.1977 ]\n",
            " [767.8517 ]\n",
            " [768.207  ]\n",
            " [768.25964]\n",
            " [768.8291 ]\n",
            " [768.5948 ]\n",
            " [769.72925]]\n",
            "----- SHAPE rescaled predicted price ----- (780, 1)\n"
          ]
        }
      ],
      "source": [
        "#Rescale back the real dataset\n",
        "rescaled_Real_price = y_scaler.inverse_transform(Real_price)\n",
        "rescaled_Predicted_price = y_scaler.inverse_transform(Predicted_price)\n",
        "\n",
        "print(\"----- rescaled predicted price -----\", rescaled_Predicted_price)\n",
        "print(\"----- SHAPE rescaled predicted price -----\", rescaled_Predicted_price.shape)"
      ]
    },
    {
      "cell_type": "code",
      "execution_count": null,
      "metadata": {
        "id": "KP3VZsgY_AnH"
      },
      "outputs": [],
      "source": [
        "#Prepare and organize the predicted and real price data after training GAN model\n",
        "train_predict_index = np.load(\"train_predict_index.npy\", allow_pickle=True)\n",
        "test_predict_index = np.load(\"test_predict_index.npy\", allow_pickle=True)\n",
        "\n",
        "predict_result = pd.DataFrame()\n",
        "for i in range(rescaled_Predicted_price.shape[0]):\n",
        "    y_predict = pd.DataFrame(rescaled_Predicted_price[i], columns=[\"predicted_price\"], index=train_predict_index[i:i+output_dim])\n",
        "    predict_result = pd.concat([predict_result, y_predict], axis=1, sort=False)\n",
        "\n",
        "real_price = pd.DataFrame()\n",
        "for i in range(rescaled_Real_price.shape[0]):\n",
        "    y_train = pd.DataFrame(rescaled_Real_price[i], columns=[\"real_price\"], index=train_predict_index[i:i+output_dim])\n",
        "    real_price = pd.concat([real_price, y_train], axis=1, sort=False)\n",
        "\n",
        "predict_result['predicted_mean'] = predict_result.mean(axis=1)\n",
        "real_price['real_mean'] = real_price.mean(axis=1)"
      ]
    },
    {
      "cell_type": "code",
      "execution_count": null,
      "metadata": {
        "colab": {
          "base_uri": "https://localhost:8080/",
          "height": 722
        },
        "id": "TZ6y9icEAkbN",
        "outputId": "f5bf638b-fbb2-4f96-d1cf-7fee0b4aad6a"
      },
      "outputs": [
        {
          "output_type": "display_data",
          "data": {
            "text/plain": [
              "<Figure size 1600x800 with 1 Axes>"
            ],
            "image/png": "[encoded data removed]"
          },
          "metadata": {}
        }
      ],
      "source": [
        "#Plot the predicted result\n",
        "plt.figure(figsize=(16, 8))\n",
        "plt.plot(real_price[\"real_mean\"])\n",
        "plt.plot(predict_result[\"predicted_mean\"], color = 'r')\n",
        "plt.xlabel(\"Date\")\n",
        "plt.ylabel(\"Stock price\")\n",
        "plt.legend((\"Real price\", \"Predicted price\"), loc=\"upper left\", fontsize=16)\n",
        "plt.title(\"The result of Training\", fontsize=20)\n",
        "plt.show()"
      ]
    },
    {
      "cell_type": "code",
      "execution_count": null,
      "metadata": {
        "colab": {
          "base_uri": "https://localhost:8080/"
        },
        "id": "THZNfZgKmYKG",
        "outputId": "405bb1ef-c213-40f9-f119-4c275ac167cf"
      },
      "outputs": [
        {
          "output_type": "stream",
          "name": "stdout",
          "text": [
            "-- Train MAPE --  20.934064918657306\n"
          ]
        }
      ],
      "source": [
        "#Calculate MAPE\n",
        "predicted = predict_result[\"predicted_mean\"]\n",
        "real = real_price[\"real_mean\"]\n",
        "\n",
        "MAPE = mean_absolute_percentage_error(predicted, real) * 100\n",
        "\n",
        "print('-- Train MAPE -- ', MAPE)"
      ]
    },
    {
      "cell_type": "code",
      "source": [
        "#Save the model\n",
        "generator.save('gen_GRU_model_89.h5')"
      ],
      "metadata": {
        "id": "GL0xPj1iliNQ"
      },
      "execution_count": null,
      "outputs": []
    },
    {
      "cell_type": "code",
      "source": [
        "#Predict the testing data\n",
        "def get_test_plot(yc_test, y_test):\n",
        "\n",
        "    #Set output steps\n",
        "    output_dim = y_test.shape[1]\n",
        "\n",
        "    #Get predicted data\n",
        "    G_model = tf.keras.models.load_model('gen_GRU_model_89.h5')\n",
        "    y_predicted = G_model(yc_test)\n",
        "    y_scaler = load(open('y_scaler.pkl', 'rb'))\n",
        "    rescaled_Real_price = y_scaler.inverse_transform(y_test)\n",
        "    rescaled_Predicted_price = y_scaler.inverse_transform(y_predicted)\n",
        "\n",
        "    #Predicted price\n",
        "    predict_result = pd.DataFrame()\n",
        "    for i in range(y_predicted.shape[0]):\n",
        "        y_predict = pd.DataFrame(rescaled_Predicted_price[i], columns=[\"predicted_price\"],\n",
        "                                 index=test_predict_index[i:i + output_dim])\n",
        "        predict_result = pd.concat([predict_result, y_predict], axis=1, sort=False)\n",
        "\n",
        "    #Real price\n",
        "    real_price = pd.DataFrame()\n",
        "    for i in range(y_test.shape[0]):\n",
        "        y_train = pd.DataFrame(rescaled_Real_price[i], columns=[\"real_price\"], index=test_predict_index[i:i + output_dim])\n",
        "        real_price = pd.concat([real_price, y_train], axis=1, sort=False)\n",
        "\n",
        "    predict_result['predicted_mean'] = predict_result.mean(axis=1)\n",
        "    real_price['real_mean'] = real_price.mean(axis=1)\n",
        "\n",
        "    #Plot the predicted result\n",
        "    plt.figure(figsize=(16, 8))\n",
        "    plt.plot(real_price[\"real_mean\"])\n",
        "    plt.plot(predict_result[\"predicted_mean\"], color='r')\n",
        "    plt.xlabel(\"Date\")\n",
        "    plt.ylabel(\"Stock price\")\n",
        "    plt.legend((\"Real price\", \"Predicted price\"), loc=\"upper left\", fontsize=16)\n",
        "    plt.title(\"The result of test\", fontsize=20)\n",
        "    plt.show()\n",
        "    plt.savefig('test_plot.png')\n",
        "\n",
        "    #Calculate MAPE\n",
        "    predicted = predict_result[\"predicted_mean\"]\n",
        "    real = real_price[\"real_mean\"]\n",
        "    MAPE = mean_absolute_percentage_error(predicted, real) * 100\n",
        "    print('-- MAPE -- ', MAPE)\n",
        "\n",
        "    return predict_result, MAPE"
      ],
      "metadata": {
        "id": "FxOxBlNGUMRI"
      },
      "execution_count": null,
      "outputs": []
    },
    {
      "cell_type": "code",
      "source": [
        "#Plot the predicted result and calculate MAPE\n",
        "test_predicted, test_MAPE = get_test_plot(yc_test, y_test)\n",
        "test_predicted.to_csv(\"test_predicted.csv\")"
      ],
      "metadata": {
        "colab": {
          "base_uri": "https://localhost:8080/",
          "height": 757
        },
        "id": "zdu1b_OBUMiT",
        "outputId": "7f742286-fd54-4ca9-bb58-dfee6fe9ff10"
      },
      "execution_count": null,
      "outputs": [
        {
          "output_type": "display_data",
          "data": {
            "text/plain": [
              "<Figure size 1600x800 with 1 Axes>"
            ],
            "image/png": "[encoded data removed]"
          },
          "metadata": {}
        },
        {
          "output_type": "stream",
          "name": "stdout",
          "text": [
            "-- MAPE --  2.3740642972485166\n"
          ]
        },
        {
          "output_type": "display_data",
          "data": {
            "text/plain": [
              "<Figure size 640x480 with 0 Axes>"
            ]
          },
          "metadata": {}
        }
      ]
    }
  ],
  "metadata": {
    "accelerator": "TPU",
    "colab": {
      "provenance": []
    },
    "kernelspec": {
      "display_name": "Python 3",
      "name": "python3"
    },
    "language_info": {
      "name": "python"
    }
  },
  "nbformat": 4,
  "nbformat_minor": 0
}